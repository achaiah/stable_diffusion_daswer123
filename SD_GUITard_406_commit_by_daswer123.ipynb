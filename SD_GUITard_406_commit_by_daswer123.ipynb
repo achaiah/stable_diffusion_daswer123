{
  "cells": [
    {
      "cell_type": "markdown",
      "metadata": {
        "id": "view-in-github",
        "colab_type": "text"
      },
      "source": [
        "<a href=\"https://colab.research.google.com/github/achaiah/stable_diffusion_daswer123/blob/main/SD_GUITard_406_commit_by_daswer123.ipynb\" target=\"_parent\"><img src=\"https://colab.research.google.com/assets/colab-badge.svg\" alt=\"Open In Colab\"/></a>"
      ]
    },
    {
      "cell_type": "code",
      "execution_count": 1,
      "metadata": {
        "id": "AlcozOvcNy8M",
        "colab": {
          "base_uri": "https://localhost:8080/"
        },
        "outputId": "78157dd8-5234-4f4f-bd74-32c4b693d13f"
      },
      "outputs": [
        {
          "output_type": "stream",
          "name": "stdout",
          "text": [
            "GPU 0: Tesla T4 (UUID: GPU-8be9219c-2eeb-8f94-f682-8b6fbda78ba9)\n"
          ]
        }
      ],
      "source": [
        "!nvidia-smi -L"
      ]
    },
    {
      "cell_type": "markdown",
      "metadata": {
        "id": "rs-RNngKdEaE"
      },
      "source": [
        "The collab runs a modified version Stable diffusion by hiki\n",
        "\n",
        "You can see all the features on his page\n",
        "\n",
        "hhttps://github.com/sd-webui/stable-diffusion-webui"
      ]
    },
    {
      "cell_type": "markdown",
      "metadata": {
        "id": "jj6YKCdTDzMf"
      },
      "source": [
        "This version 406 commits to stable-diffusion"
      ]
    },
    {
      "cell_type": "markdown",
      "source": [
        "**There is a bug which causes the images in gradio to stop loading after 60 seconds.**\n",
        "\n",
        "Pictures are saved in any case and you can see them in the outputs folder\n",
        "\n",
        "To fix this, simply reload the page gradio, but the settings will be lost\n",
        "\n",
        "You can also use Localtunnel then this problem will not happen"
      ],
      "metadata": {
        "id": "FCp-VDRmL9gc"
      }
    },
    {
      "cell_type": "markdown",
      "metadata": {
        "id": "qihOCie6dIqr"
      },
      "source": [
        "## Setup 1 stage\n",
        "Clone git repo and setup miniconda\n",
        "\n",
        "After runtime is executed, it will restart"
      ]
    },
    {
      "cell_type": "code",
      "execution_count": 2,
      "metadata": {
        "id": "iEx26t1hJjwJ",
        "colab": {
          "base_uri": "https://localhost:8080/"
        },
        "outputId": "5f0142c9-4371-46d8-9be2-fbb8575bcbfb"
      },
      "outputs": [
        {
          "output_type": "stream",
          "name": "stdout",
          "text": [
            "Cloning into 'stable-diffusion-colab'...\n",
            "remote: Enumerating objects: 1039, done.\u001b[K\n",
            "remote: Counting objects: 100% (9/9), done.\u001b[K\n",
            "remote: Compressing objects: 100% (9/9), done.\u001b[K\n",
            "remote: Total 1039 (delta 0), reused 7 (delta 0), pack-reused 1030\u001b[K\n",
            "Receiving objects: 100% (1039/1039), 56.19 MiB | 16.61 MiB/s, done.\n",
            "Resolving deltas: 100% (487/487), done.\n"
          ]
        }
      ],
      "source": [
        "!git clone https://github.com/daswer123/stable-diffusion-colab"
      ]
    },
    {
      "cell_type": "code",
      "execution_count": 8,
      "metadata": {
        "id": "KOpW6KZQJ01Z",
        "colab": {
          "base_uri": "https://localhost:8080/",
          "height": 421
        },
        "outputId": "5d0cc0bd-8ac7-47a1-9104-3914da466357"
      },
      "outputs": [
        {
          "output_type": "stream",
          "name": "stdout",
          "text": [
            "/content/stable-diffusion-colab\n",
            "Looking in indexes: https://pypi.org/simple, https://us-python.pkg.dev/colab-wheels/public/simple/\n",
            "Obtaining file:///content/stable-diffusion-colab\n",
            "Collecting torch\n",
            "  Downloading torch-1.12.1-cp37-cp37m-manylinux1_x86_64.whl (776.3 MB)\n",
            "\u001b[K     |████████████████████████████████| 776.3 MB 13 kB/s \n",
            "\u001b[?25hCollecting numpy\n",
            "  Downloading numpy-1.21.6-cp37-cp37m-manylinux_2_12_x86_64.manylinux2010_x86_64.whl (15.7 MB)\n",
            "\u001b[K     |████████████████████████████████| 15.7 MB 54.9 MB/s \n",
            "\u001b[?25hRequirement already satisfied: tqdm in /usr/local/lib/python3.7/site-packages (from latent-diffusion==0.0.1) (4.63.0)\n",
            "Collecting typing-extensions\n",
            "  Downloading typing_extensions-4.3.0-py3-none-any.whl (25 kB)\n",
            "Installing collected packages: typing-extensions, torch, numpy, latent-diffusion\n",
            "  Running setup.py develop for latent-diffusion\n",
            "Successfully installed latent-diffusion-0.0.1 numpy-1.21.6 torch-1.12.1 typing-extensions-4.3.0\n",
            "\u001b[33mWARNING: Running pip as the 'root' user can result in broken permissions and conflicting behaviour with the system package manager. It is recommended to use a virtual environment instead: https://pip.pypa.io/warnings/venv\u001b[0m\n"
          ]
        },
        {
          "output_type": "display_data",
          "data": {
            "application/vnd.colab-display-data+json": {
              "pip_warning": {
                "packages": [
                  "numpy"
                ]
              }
            }
          },
          "metadata": {}
        }
      ],
      "source": [
        "%cd /content/stable-diffusion-colab\n",
        "!pip install -e ."
      ]
    },
    {
      "cell_type": "code",
      "execution_count": 3,
      "metadata": {
        "id": "jKAZWkcnJ3k4",
        "colab": {
          "base_uri": "https://localhost:8080/"
        },
        "outputId": "0a1c997b-ae84-43c9-c0a6-c22f5ccf9a4c"
      },
      "outputs": [
        {
          "output_type": "stream",
          "name": "stdout",
          "text": [
            "Looking in indexes: https://pypi.org/simple, https://us-python.pkg.dev/colab-wheels/public/simple/\n",
            "Collecting condacolab\n",
            "  Using cached condacolab-0.1.4-py3-none-any.whl (6.9 kB)\n",
            "Installing collected packages: condacolab\n",
            "Successfully installed condacolab-0.1.4\n",
            "\u001b[33mWARNING: Running pip as the 'root' user can result in broken permissions and conflicting behaviour with the system package manager. It is recommended to use a virtual environment instead: https://pip.pypa.io/warnings/venv\u001b[0m\n",
            "✨🍰✨ Everything looks OK!\n"
          ]
        }
      ],
      "source": [
        "!pip install condacolab\n",
        "import condacolab\n",
        "condacolab.install_miniconda()"
      ]
    },
    {
      "cell_type": "markdown",
      "metadata": {
        "id": "O7EEb481dPFc"
      },
      "source": [
        "## Setup 2 stage\n",
        "### Setup envoroment, Gfpgan and Real-ESRGAN\n",
        "Setup takes about 5-6 minutes"
      ]
    },
    {
      "cell_type": "code",
      "execution_count": 4,
      "metadata": {
        "id": "4evkYSmPKfA4",
        "colab": {
          "base_uri": "https://localhost:8080/"
        },
        "outputId": "99804fd0-45e4-4c22-e6d7-312b08e6a29a"
      },
      "outputs": [
        {
          "output_type": "stream",
          "name": "stdout",
          "text": [
            "/content\n",
            "Collecting package metadata (repodata.json): - \b\b\\ \b\b| \b\b/ \b\b- \b\b\\ \b\b| \b\b/ \b\b- \b\b\\ \b\b| \b\b/ \b\b- \b\b\\ \b\b| \b\b/ \b\b- \b\b\\ \b\b| \b\b/ \b\b- \b\b\\ \b\b| \b\b/ \b\b- \b\b\\ \b\b| \b\b/ \b\b- \b\b\\ \b\b| \b\b/ \b\b- \b\b\\ \b\b| \b\b/ \b\b- \b\b\\ \b\b| \b\b/ \b\b- \b\b\\ \b\b| \b\b/ \b\b- \b\b\\ \b\b| \b\b/ \b\b- \b\b\\ \b\b| \b\b/ \b\b- \b\b\\ \b\b| \b\b/ \b\b- \b\b\\ \b\b| \b\b/ \b\b- \b\b\\ \b\b| \b\b/ \b\b- \b\b\\ \b\b| \b\bdone\n",
            "Solving environment: - \b\b\\ \b\b| \b\b/ \b\b- \b\b\\ \b\b| \b\b/ \b\b- \b\b\\ \b\b| \b\b/ \b\b- \b\b\\ \b\b| \b\b/ \b\b- \b\b\\ \b\b| \b\b/ \b\b- \b\b\\ \b\b| \b\b/ \b\b- \b\b\\ \b\b| \b\b/ \b\b- \b\b\\ \b\b| \b\b/ \b\b- \b\b\\ \b\b| \b\b/ \b\b- \b\b\\ \b\b| \b\b/ \b\b- \b\b\\ \b\b| \b\b/ \b\b- \b\b\\ \b\b| \b\b/ \b\b- \b\b\\ \b\b| \b\b/ \b\b- \b\b\\ \b\b| \b\b/ \b\b- \b\b\\ \b\b| \b\b/ \b\b- WARNING conda.core.solve:_add_specs(649): pinned spec python=3.7 conflicts with explicit specs.  Overriding pinned spec.\n",
            "WARNING conda.core.solve:_add_specs(649): pinned spec cudatoolkit=11.1 conflicts with explicit specs.  Overriding pinned spec.\n",
            "\b\b\\ \b\b| \b\b/ \b\b- \b\b\\ \b\b| \b\b/ \b\b- \b\b\\ \b\b| \b\b/ \b\bdone\n",
            "\n",
            "Downloading and Extracting Packages\n",
            "libwebp-base-1.2.2   | 440 KB    | : 100% 1.0/1 [00:00<00:00,  8.06it/s]\n",
            "pycosat-0.6.3        | 82 KB     | : 100% 1.0/1 [00:00<00:00, 10.56it/s]\n",
            "libunistring-0.9.10  | 536 KB    | : 100% 1.0/1 [00:00<00:00, 12.26it/s]\n",
            "freetype-2.11.0      | 618 KB    | : 100% 1.0/1 [00:00<00:00, 15.05it/s]\n",
            "conda-package-handli | 885 KB    | : 100% 1.0/1 [00:00<00:00, 13.05it/s]\n",
            "mkl-service-2.3.0    | 62 KB     | : 100% 1.0/1 [00:00<00:00, 17.57it/s]\n",
            "libuv-1.40.0         | 736 KB    | : 100% 1.0/1 [00:00<00:00, 14.70it/s]\n",
            "pcre2-10.37          | 839 KB    | : 100% 1.0/1 [00:00<00:00, 13.00it/s]\n",
            "gmp-6.2.1            | 544 KB    | : 100% 1.0/1 [00:00<00:00, 12.75it/s]\n",
            "setuptools-63.4.1    | 1.1 MB    | : 100% 1.0/1 [00:00<00:00,  8.37it/s]\n",
            "libcurl-7.82.0       | 342 KB    | : 100% 1.0/1 [00:00<00:00, 12.28it/s]\n",
            "libev-4.33           | 111 KB    | : 100% 1.0/1 [00:00<00:00, 17.39it/s]\n",
            "cudatoolkit-11.3.1   | 549.3 MB  | : 100% 1.0/1 [00:15<00:00, 15.19s/it]               \n",
            "gnutls-3.6.15        | 1.0 MB    | : 100% 1.0/1 [00:00<00:00, 10.11it/s]\n",
            "pip-20.3.3           | 1.8 MB    | : 100% 1.0/1 [00:00<00:00,  4.93it/s]\n",
            "typing_extensions-4. | 42 KB     | : 100% 1.0/1 [00:00<00:00, 15.43it/s]\n",
            "mkl_random-1.1.1     | 341 KB    | : 100% 1.0/1 [00:00<00:00, 11.79it/s]\n",
            "numpy-1.19.2         | 22 KB     | : 100% 1.0/1 [00:00<00:00, 16.41it/s]\n",
            "giflib-5.2.1         | 78 KB     | : 100% 1.0/1 [00:00<00:00, 15.71it/s]\n",
            "bzip2-1.0.8          | 78 KB     | : 100% 1.0/1 [00:00<00:00, 19.28it/s]\n",
            "git-2.34.1           | 6.0 MB    | : 100% 1.0/1 [00:00<00:00,  2.83it/s]\n",
            "expat-2.4.4          | 169 KB    | : 100% 1.0/1 [00:00<00:00, 17.18it/s]\n",
            "intel-openmp-2022.0. | 4.2 MB    | : 100% 1.0/1 [00:00<00:00,  3.85it/s]\n",
            "jpeg-9e              | 240 KB    | : 100% 1.0/1 [00:00<00:00, 15.92it/s]\n",
            "blas-1.0             | 6 KB      | : 100% 1.0/1 [00:00<00:00, 15.96it/s]\n",
            "libedit-3.1.20210910 | 166 KB    | : 100% 1.0/1 [00:00<00:00, 16.09it/s]\n",
            "cffi-1.15.0          | 224 KB    | : 100% 1.0/1 [00:00<00:00, 15.08it/s]\n",
            "pillow-9.0.1         | 659 KB    | : 100% 1.0/1 [00:00<00:00, 11.12it/s]\n",
            "torchvision-0.12.0   | 27.7 MB   | : 100% 1.0/1 [00:03<00:00,  3.83s/it]               \n",
            "krb5-1.19.2          | 1.2 MB    | : 100% 1.0/1 [00:00<00:00, 10.61it/s]\n",
            "ffmpeg-4.3           | 9.9 MB    | : 100% 1.0/1 [00:01<00:00,  1.51s/it]\n",
            "lcms2-2.12           | 312 KB    | : 100% 1.0/1 [00:00<00:00, 15.00it/s]\n",
            "mkl-2020.2           | 138.3 MB  | : 100% 1.0/1 [00:05<00:00,  5.26s/it]               \n",
            "pytorch-1.11.0       | 1.02 GB   | : 100% 1.0/1 [02:32<00:00, 152.34s/it]              \n",
            "cytoolz-0.11.0       | 345 KB    | : 100% 1.0/1 [00:00<00:00,  8.97it/s]\n",
            "lz4-c-1.9.3          | 185 KB    | : 100% 1.0/1 [00:00<00:00, 21.69it/s]\n",
            "gettext-0.21.0       | 2.6 MB    | : 100% 1.0/1 [00:00<00:00,  7.60it/s]\n",
            "pysocks-1.7.1        | 31 KB     | : 100% 1.0/1 [00:00<00:00, 21.38it/s]\n",
            "libpng-1.6.37        | 278 KB    | : 100% 1.0/1 [00:00<00:00, 20.22it/s]\n",
            "numpy-base-1.19.2    | 4.2 MB    | : 100% 1.0/1 [00:00<00:00,  2.94it/s]\n",
            "c-ares-1.18.1        | 114 KB    | : 100% 1.0/1 [00:00<00:00, 16.97it/s]\n",
            "certifi-2022.6.15    | 153 KB    | : 100% 1.0/1 [00:00<00:00, 23.44it/s]\n",
            "ca-certificates-2022 | 124 KB    | : 100% 1.0/1 [00:00<00:00, 20.63it/s]\n",
            "brotlipy-0.7.0       | 323 KB    | : 100% 1.0/1 [00:00<00:00, 19.56it/s]\n",
            "mkl_fft-1.3.0        | 177 KB    | : 100% 1.0/1 [00:00<00:00, 22.31it/s]\n",
            "libtiff-4.2.0        | 452 KB    | : 100% 1.0/1 [00:00<00:00, 17.16it/s]\n",
            "openh264-2.1.1       | 711 KB    | : 100% 1.0/1 [00:00<00:00, 14.53it/s]\n",
            "libiconv-1.16        | 736 KB    | : 100% 1.0/1 [00:00<00:00, 13.39it/s]\n",
            "cryptography-37.0.1  | 1.3 MB    | : 100% 1.0/1 [00:00<00:00,  7.98it/s]\n",
            "libidn2-2.3.2        | 81 KB     | : 100% 1.0/1 [00:00<00:00, 21.01it/s]\n",
            "python-3.8.5         | 49.3 MB   | : 100% 1.0/1 [00:01<00:00,  1.38s/it]               \n",
            "conda-4.14.0         | 916 KB    | : 100% 1.0/1 [00:00<00:00,  8.92it/s]\n",
            "pytorch-mutex-1.0    | 3 KB      | : 100% 1.0/1 [00:00<00:00, 23.18it/s]\n",
            "libxml2-2.9.14       | 718 KB    | : 100% 1.0/1 [00:00<00:00, 11.17it/s]\n",
            "icu-58.2             | 10.5 MB   | : 100% 1.0/1 [00:00<00:00,  2.26it/s]               \n",
            "lame-3.100           | 323 KB    | : 100% 1.0/1 [00:00<00:00, 12.03it/s]\n",
            "curl-7.82.0          | 95 KB     | : 100% 1.0/1 [00:00<00:00, 18.97it/s]\n",
            "toolz-0.11.2         | 49 KB     | : 100% 1.0/1 [00:00<00:00, 20.20it/s]\n",
            "libtasn1-4.16.0      | 58 KB     | : 100% 1.0/1 [00:00<00:00, 20.34it/s]\n",
            "openssl-1.1.1q       | 2.5 MB    | : 100% 1.0/1 [00:00<00:00,  5.66it/s]\n",
            "perl-5.26.2          | 10.5 MB   | : 100% 1.0/1 [00:00<00:00,  1.68it/s]               \n",
            "libwebp-1.2.2        | 80 KB     | : 100% 1.0/1 [00:00<00:00, 19.17it/s]\n",
            "zstd-1.5.2           | 488 KB    | : 100% 1.0/1 [00:00<00:00, 13.24it/s]\n",
            "libssh2-1.10.0       | 274 KB    | : 100% 1.0/1 [00:00<00:00, 13.85it/s]\n",
            "ruamel_yaml-0.15.100 | 258 KB    | : 100% 1.0/1 [00:00<00:00, 15.82it/s]\n",
            "libnghttp2-1.46.0    | 680 KB    | : 100% 1.0/1 [00:00<00:00, 13.24it/s]\n",
            "nettle-3.7.3         | 809 KB    | : 100% 1.0/1 [00:00<00:00, 12.02it/s]\n",
            "Preparing transaction: \\ \b\b| \b\b/ \b\b- \b\b\\ \b\b| \b\b/ \b\b- \b\b\\ \b\bdone\n",
            "Verifying transaction: / \b\b- \b\b\\ \b\b| \b\b/ \b\b- \b\b\\ \b\b| \b\b/ \b\b- \b\b\\ \b\b| \b\b/ \b\b- \b\b\\ \b\b| \b\b/ \b\b- \b\b\\ \b\b| \b\b/ \b\b- \b\b\\ \b\b| \b\b/ \b\b- \b\b\\ \b\b| \b\b/ \b\b- \b\b\\ \b\b| \b\bdone\n",
            "Executing transaction: - \b\b\\ \b\b| \b\b/ \b\b- \b\b\\ \b\b| \b\b/ \b\b- \b\b\\ \b\b| \b\b/ \b\b- \b\b\\ \b\b| \b\b/ \b\b- \b\b\\ \b\b| \b\b/ \b\b- \b\b\\ \b\b| \b\b/ \b\b- \b\b\\ \b\b| \b\b/ \b\b- \b\b\\ \b\b| \b\b/ \b\b- \b\b\\ \b\b| \b\b/ \b\b- \b\b\\ \b\b| \b\b/ \b\b- \b\b\\ \b\b| \b\b/ \b\b- \b\b\\ \b\b| \b\b/ \b\b- \b\b\\ \b\b| \b\b/ \b\b- \b\b\\ \b\b| \b\b/ \b\b- \b\b\\ \b\b| \b\b/ \b\b- \b\b\\ \b\b| \b\b/ \b\b- \b\b\\ \b\b| \b\b/ \b\b- \b\b\\ \b\b| \b\b/ \b\b- \b\b\\ \b\b| \b\b/ \b\b- \b\b\\ \b\b| \b\b/ \b\b- \b\b\\ \b\b| \b\b/ \b\b- \b\b\\ \b\b| \b\b/ \b\b- \b\b\\ \b\b| \b\b/ \b\b- \b\b\\ \b\b| \b\b/ \b\b- \b\b\\ \b\b| \b\b/ \b\b- \b\b\\ \b\b| \b\b/ \b\b- \b\b\\ \b\b| \b\b/ \b\b- \b\b\\ \b\b| \b\b/ \b\b- \b\b\\ \b\b| \b\b/ \b\b- \b\b\\ By downloading and using the CUDA Toolkit conda packages, you accept the terms and conditions of the CUDA End User License Agreement (EULA): https://docs.nvidia.com/cuda/eula/index.html\n",
            "\n",
            "\b\b| \b\b/ \b\b- \b\b\\ \b\b| \b\b/ \b\b- \b\b\\ \b\b| \b\b/ \b\b- \b\b\\ \b\b| \b\b/ \b\b- \b\b\\ \b\b| \b\b/ \b\b- \b\b\\ \b\b| \b\b/ \b\b- \b\bdone\n",
            "Installing pip dependencies: | \b\b/ \b\b- \b\b\\ \b\b| \b\b/ \b\b- \b\b\\ \b\b| \b\b/ \b\b- \b\b\\ \b\b| \b\b/ \b\b- \b\b\\ \b\b| \b\b/ \b\b- \b\b\\ \b\b| \b\b/ \b\b- \b\b\\ \b\b| \b\b/ \b\b- \b\b\\ \b\b| \b\b/ \b\b- \b\b\\ \b\b| \b\b/ \b\b- \b\b\\ \b\b| \b\b/ \b\b- \b\b\\ \b\b| \b\b/ \b\b- \b\b\\ \b\b| \b\b/ \b\b- \b\b\\ \b\b| \b\b/ \b\b- \b\b\\ \b\b| \b\b/ \b\b- \b\b\\ \b\b| \b\b/ \b\b- \b\b\\ \b\b| \b\b/ \b\b- \b\b\\ \b\b| \b\b/ \b\b- \b\b\\ \b\b| \b\b/ \b\b- \b\b\\ \b\b| \b\b/ \b\b- \b\b\\ \b\b| \b\b/ \b\b- \b\b\\ \b\b| \b\b/ \b\b- \b\b\\ \b\b| \b\b/ \b\b- \b\b\\ \b\b| \b\b/ \b\b- \b\b\\ \b\b| \b\b/ \b\b- \b\b\\ \b\b| \b\b/ \b\b- \b\b\\ \b\b| \b\b/ \b\b- \b\b\\ \b\b| \b\b/ \b\b- \b\b\\ \b\b| \b\b/ \b\b- \b\b\\ \b\b| \b\b/ \b\b- \b\b\\ \b\b| \b\b/ \b\b- \b\b\\ \b\b| \b\b/ \b\b- \b\b\\ \b\b| \b\b/ \b\b- \b\b\\ \b\b| \b\b/ \b\b- \b\b\\ \b\b| \b\b/ \b\b- \b\b\\ \b\b| \b\b/ \b\b- \b\b\\ \b\b| \b\b/ \b\b- \b\b\\ \b\b| \b\b/ \b\b- \b\b\\ \b\b| \b\b/ \b\b- \b\b\\ \b\b| \b\b/ \b\b- \b\b\\ \b\b| \b\b/ \b\b- \b\b\\ \b\b| \b\b/ \b\b- \b\b\\ \b\b| \b\b/ \b\b- \b\b\\ \b\b| \b\b/ \b\b- \b\b\\ \b\b| \b\b/ \b\b- \b\b\\ \b\b| \b\b/ \b\b- \b\b\\ \b\b| \b\b/ \b\b- \b\b\\ \b\b| \b\b/ \b\b- \b\b\\ \b\b| \b\b/ \b\b- \b\b\\ \b\b| \b\b/ \b\b- \b\b\\ \b\b| \b\b/ \b\b- \b\b\\ \b\b| \b\b/ \b\b- \b\b\\ \b\b| \b\b/ \b\b- \b\b\\ \b\b| \b\b/ \b\b- \b\b\\ \b\b| \b\b/ \b\b- \b\b\\ \b\b| \b\b/ \b\b- \b\b\\ \b\b| \b\b/ \b\b- \b\b\\ \b\b| \b\b/ \b\b- \b\b\\ \b\b| \b\b/ \b\b- \b\b\\ \b\b| \b\b/ \b\b- \b\b\\ \b\b| \b\b/ \b\b- \b\b\\ \b\b| \b\b/ \b\b- \b\b\\ \b\b| \b\b/ \b\b- \b\b\\ \b\b| \b\b/ \b\b- \b\b\\ \b\b| \b\b/ \b\b- \b\b\\ \b\b| \b\b/ \b\b- \b\b\\ \b\b| \b\b/ \b\b- \b\b\\ \b\b| \b\b/ \b\b- \b\b\\ \b\b| \b\b/ \b\b- \b\b\\ \b\b| \b\b/ \b\b- \b\b\\ \b\b| \b\b/ \b\b- \b\b\\ \b\b| \b\b/ \b\b- \b\b\\ \b\b| \b\b/ \b\b- \b\b\\ \b\b| \b\b/ \b\b- \b\b\\ \b\b| \b\b/ \b\b- \b\b\\ \b\b| \b\b/ \b\b- \b\b\\ \b\b| \b\b/ \b\b- \b\b\\ \b\b| \b\b/ \b\b- \b\b\\ \b\b| \b\b/ \b\b- \b\b\\ \b\b| \b\b/ \b\b- \b\b\\ \b\b| \b\b/ \b\b- \b\b\\ \b\b| \b\b/ \b\b- \b\b\\ \b\b| \b\b/ \b\b- \b\b\\ \b\b| \b\b/ \b\b- \b\b\\ \b\b| \b\b/ \b\b- \b\b\\ \b\b| \b\b/ \b\b- \b\b\\ \b\b| \b\b/ \b\b- \b\b\\ \b\b| \b\b/ \b\b- \b\b\\ \b\b| \b\b/ \b\b- \b\b\\ \b\b| \b\b/ \b\b- \b\b\\ \b\b| \b\b/ \b\b- \b\b\\ \b\b| \b\b/ \b\b- \b\b\\ \b\b| \b\b/ \b\b- \b\b\\ \b\b| \b\b/ \b\b- \b\b\\ \b\b| \b\b/ \b\b- \b\b\\ \b\b| \b\b/ \b\b- \b\b\\ \b\b| \b\b/ \b\b- \b\b\\ \b\b| \b\b/ \b\b- \b\b\\ \b\b| \b\b/ \b\b- \b\b\\ \b\b| \b\b/ \b\b- \b\b\\ \b\b| \b\b/ \b\b- \b\b\\ \b\b| \b\b/ \b\b- \b\b\\ \b\b| \b\b/ \b\b- \b\b\\ \b\b| \b\b/ \b\b- \b\b\\ \b\b| \b\b/ \b\b- \b\b\\ \b\b| \b\b/ \b\b- \b\b\\ \b\b| \b\b/ \b\b- \b\b\\ \b\b| \b\b/ \b\b- \b\b\\ \b\b| \b\b/ \b\b- \b\b\\ \b\b| \b\b/ \b\b- \b\b\\ \b\b| \b\b/ \b\b- \b\b\\ \b\b| \b\b/ \b\b- \b\b\\ \b\b| \b\b/ \b\b- \b\b\\ \b\b| \b\b/ \b\b- \b\b\\ \b\b| \b\b/ \b\b- \b\b\\ \b\b| \b\b/ \b\b- \b\b\\ \b\b| \b\b/ \b\b- \b\b\\ \b\b| \b\b/ \b\b- \b\b\\ \b\b| \b\b/ \b\b- \b\b\\ \b\b| \b\b/ \b\b- \b\b\\ \b\b| \b\b/ \b\b- \b\b\\ \b\b| \b\b/ \b\b- \b\b\\ \b\b| \b\b/ \b\b- \b\b\\ \b\b| \b\b/ \b\b- \b\b\\ \b\b| \b\b/ \b\b- \b\b\\ \b\b| \b\b/ \b\b- \b\b\\ \b\b| \b\b/ \b\b- \b\b\\ \b\b| \b\b/ \b\b- \b\b\\ \b\b| \b\b/ \b\b- \b\b\\ \b\b| \b\b/ \b\b- \b\b\\ \b\b| \b\b/ \b\b- \b\b\\ \b\b| \b\b/ \b\b- \b\b\\ \b\b| \b\b/ \b\b- \b\b\\ \b\b| \b\b/ \b\b- \b\b\\ \b\b| \b\b/ \b\b- \b\b\\ \b\b| \b\b/ \b\b- \b\b\\ \b\b| \b\b/ \b\b- \b\b\\ \b\b| \b\b/ \b\b- \b\b\\ \b\b| \b\b/ \b\b- \b\b\\ \b\b| \b\b/ \b\b- \b\b\\ \b\b| \b\b/ \b\b- \b\b\\ \b\b| \b\b/ \b\b- \b\b\\ \b\b| \b\b/ \b\b- \b\b\\ \b\b| \b\b/ \b\b- \b\b\\ \b\b| \b\b/ \b\b- \b\b\\ \b\b| \b\b/ \b\b- \b\b\\ \b\b| \b\b/ \b\b- \b\b\\ \b\b| \b\b/ \b\b- \b\b\\ \b\b| \b\b/ \b\b- \b\b\\ \b\b| \b\b/ \b\b- \b\b\\ \b\b| \b\b/ \b\b- \b\b\\ \b\b| \b\b/ \b\b- \b\b\\ \b\b| \b\b/ \b\b- \b\b\\ \b\b| \b\b/ \b\b- \b\b\\ \b\b| \b\b/ \b\b- \b\b\\ \b\b| \b\b/ \b\b- \b\b\\ \b\b| \b\b/ \b\b- \b\b\\ \b\b| \b\b/ \b\b- \b\b\\ \b\b| \b\b/ \b\b- \b\b\\ \b\b| \b\b/ \b\b- \b\b\\ \b\b| \b\b/ \b\b- \b\b\\ \b\b| \b\b/ \b\b- \b\b\\ \b\b| \b\b/ \b\b- \b\b\\ \b\b| \b\b/ \b\b- \b\b\\ \b\b| \b\b/ \b\b- \b\b\\ \b\b| \b\b/ \b\b- \b\b\\ \b\b| \b\b/ \b\b- \b\b\\ \b\b| \b\b/ \b\b- \b\b\\ \b\b| \b\b/ \b\b- \b\b\\ \b\b| \b\b/ \b\b- \b\b\\ \b\b| \b\b/ \b\b- \b\b\\ \b\b| \b\b/ \b\b- \b\b\\ \b\b| \b\b/ \b\b- \b\b\\ \b\b| \b\b/ \b\b- \b\b\\ \b\b| \b\b/ \b\b- \b\b\\ \b\b| \b\b/ \b\b- \b\b\\ \b\b| \b\b/ \b\b- \b\b\\ \b\b| \b\b/ \b\b- \b\b\\ \b\b| \b\b/ \b\b- \b\b\\ \b\b| \b\b/ \b\b- \b\b\\ \b\b| \b\b/ \b\b- \b\b\\ \b\b| \b\b/ \b\b- \b\b\\ \b\b| \b\b/ \b\b- \b\b\\ \b\b| \b\b/ \b\b- \b\b\\ \b\b| \b\b/ \b\b- \b\b\\ \b\b| \b\b/ \b\b- \b\b\\ \b\b| \b\b/ \b\b- \b\b\\ \b\b| \b\b/ \b\b- \b\b\\ \b\b| \b\b/ \b\b- \b\b\\ \b\b| \b\b/ \b\b- \b\b\\ \b\b| \b\b/ \b\b- \b\b\\ \b\b| \b\b/ \b\b- \b\b\\ \b\b| \b\b/ \b\b- \b\b\\ \b\b| \b\b/ \b\b- \b\b\\ \b\b| \b\b/ \b\b- \b\b\\ \b\b| \b\b/ \b\b- \b\b\\ \b\b| \b\b/ \b\b- \b\b\\ \b\b| \b\b/ \b\b- \b\b\\ \b\b| \b\b/ \b\b- \b\b\\ \b\b| \b\b/ \b\b- \b\b\\ \b\b| \b\b/ \b\b- \b\b\\ \b\b| \b\b/ \b\b- \b\b\\ \b\b| \b\b/ \b\b- \b\b\\ \b\b| \b\b/ \b\b- \b\b\\ \b\b| \b\b/ \b\b- \b\b\\ \b\b| \b\b/ \b\b- \b\b\\ \b\b| \b\b/ \b\b- \b\b\\ \b\b| \b\b/ \b\b- \b\b\\ \b\b| \b\b/ \b\b- \b\b\\ \b\b| \b\b/ \b\b- \b\b\\ \b\b| \b\b/ \b\b- \b\b\\ \b\b| \b\b/ \b\b- \b\b\\ \b\b| \b\b/ \b\b- \b\b\\ \b\b| \b\b/ \b\b- \b\b\\ \b\b| \b\b/ \b\b- \b\b\\ \b\b| \b\b/ \b\b- \b\b\\ \b\b| \b\b/ \b\b- \b\b\\ \b\b| \b\b/ \b\b- \b\b\\ \b\b| \b\b/ \b\b- \b\b\\ \b\b| \b\b/ \b\b- \b\b\\ \b\b| \b\b/ \b\b- \b\b\\ \b\b| \b\b/ \b\b- \b\b\\ \b\b| \b\b/ \b\b- \b\b\\ \b\b| \b\b/ \b\b- \b\b\\ \b\b| \b\b/ \b\b- \b\b\\ \b\b| \b\b/ \b\b- \b\b\\ \b\b| \b\b/ \b\b- \b\b\\ \b\b| \b\b/ \b\b- \b\b\\ \b\b| \b\b/ \b\b- \b\b\\ \b\b| \b\b/ \b\b- \b\b\\ \b\b| \b\b/ \b\b- \b\b\\ \b\b| \b\b/ \b\b- \b\b\\ \b\b| \b\b/ \b\b- \b\b\\ \b\b| \b\b/ \b\b- \b\b\\ \b\b| \b\b/ \b\b- \b\b\\ \b\b| \b\b/ \b\b- \b\b\\ \b\b| \b\b/ \b\b- \b\b\\ \b\b| \b\b/ \b\b- \b\b\\ \b\b| \b\b/ \b\b- \b\b\\ \b\b| \b\b/ \b\b- \b\b\\ \b\b| \b\b/ \b\b- \b\b\\ \b\b| \b\b/ \b\b- \b\b\\ \b\b| \b\b/ \b\b- \b\b\\ \b\b| \b\b/ \b\b- \b\b\\ \b\b| \b\b/ \b\b- \b\b\\ \b\b| \b\b/ \b\b- \b\b\\ \b\b| \b\b/ \b\b- \b\b\\ \b\b| \b\b/ \b\b- \b\b\\ \b\b| \b\b/ \b\b- \b\b\\ \b\b| \b\b/ \b\b- \b\b\\ \b\b| \b\b/ \b\b- \b\b\\ \b\b| \b\b/ \b\b- \b\b\\ \b\b| \b\b/ \b\b- \b\b\\ \b\b| \b\b/ \b\b- \b\b\\ \b\b| \b\b/ \b\b- \b\b\\ \b\b| \b\b/ \b\b- \b\b\\ \b\b| \b\b/ \b\b- \b\b\\ \b\b| \b\b/ \b\b- \b\b\\ \b\b| \b\b/ \b\b- \b\b\\ \b\b| \b\b/ \b\b- \b\b\\ \b\b| \b\b/ \b\b- \b\b\\ \b\b| \b\b/ \b\b- \b\b\\ \b\b| \b\b/ \b\b- \b\b\\ \b\b| \b\b/ \b\b- \b\b\\ \b\b| \b\b/ \b\b- \b\b\\ \b\b| \b\b/ \b\b- \b\b\\ \b\b| \b\b/ \b\b- \b\b\\ \b\b| \b\b/ \b\b- \b\b\\ \b\b| \b\b/ \b\b- \b\b\\ \b\b| \b\b/ \b\b- \b\b\\ \b\b| \b\b/ \b\b- \b\b\\ \b\b| \b\b/ \b\b- \b\b\\ \b\b| \b\b/ \b\b- \b\b\\ \b\b| \b\b/ \b\b- \b\b\\ \b\b| \b\b/ \b\b- \b\b\\ \b\b| \b\b/ \b\b- \b\b\\ \b\b| \b\b/ \b\b- \b\b\\ \b\b| \b\b/ \b\b- \b\b\\ \b\b| \b\b/ \b\b- \b\b\\ \b\b| \b\b/ \b\b- \b\b\\ \b\b| \b\b/ \b\b- \b\b\\ \b\b| \b\b/ \b\b- \b\b\\ \b\b| \b\b/ \b\b- \b\b\\ \b\b| \b\b/ \b\b- \b\b\\ \b\b| \b\b/ \b\b- \b\b\\ \b\b| \b\b/ \b\b- \b\b\\ \b\b| \b\b/ \b\b- \b\b\\ \b\b| \b\b/ \b\b- \b\b\\ \b\b| \b\b/ \b\b- \b\b\\ \b\b| \b\b/ \b\b- \b\b\\ \b\b| \b\b/ \b\b- \b\b\\ \b\b| \b\b/ \b\b- \b\b\\ \b\b| \b\b/ \b\b- \b\b\\ \b\b| \b\b/ \b\b- \b\b\\ \b\b| \b\b/ \b\b- \b\b\\ \b\b| \b\b/ \b\b- \b\b\\ \b\b| \b\b/ \b\b- \b\b\\ \b\b| \b\b/ \b\b- \b\b\\ \b\b| \b\b/ \b\b- \b\b\\ \b\b| \b\b/ \b\b- \b\b\\ \b\b| \b\b/ \b\b- \b\b\\ \b\b| \b\b/ \b\b- \b\b\\ \b\b| \b\b/ \b\b- \b\b\\ \b\b| \b\b/ \b\b- \b\b\\ \b\b| \b\b/ \b\b- \b\b\\ \b\b| \b\b/ \b\b- \b\b\\ \b\b| \b\b/ \b\b- \b\b\\ \b\b| \b\b/ \b\b- \b\b\\ \b\b| \b\b/ \b\b- \b\b\\ \b\b| \b\b/ \b\b- \b\b\\ \b\b| \b\b/ \b\b- \b\b\\ \b\b| \b\b/ \b\b- \b\b\\ \b\b| \b\b/ \b\b- \b\b\\ \b\b| \b\b/ \b\b- \b\b\\ \b\b| \b\b/ \b\b- \b\b\\ \b\b| \b\b/ \b\b- \b\b\\ \b\b| \b\b/ \b\b- \b\b\\ \b\b| \b\b/ \b\b- \b\b\\ \b\b| \b\b/ \b\b- \b\b\\ \b\b| \b\b/ \b\b- \b\b\\ \b\b| \b\b/ \b\b- \b\b\\ \b\b| \b\b/ \b\b- \b\b\\ \b\b| \b\b/ \b\b- \b\b\\ \b\b| \b\b/ \b\b- \b\b\\ \b\b| \b\b/ \b\b- \b\b\\ \b\b| \b\b/ \b\b- \b\b\\ \b\b| \b\b/ \b\b- \b\b\\ \b\b| \b\b/ \b\b- \b\b\\ \b\b| \b\b/ \b\b- \b\b\\ \b\b| \b\b/ \b\b- \b\b\\ \b\b| \b\b/ \b\b- \b\b\\ \b\b| \b\b/ \b\b- \b\b\\ \b\b| \b\b/ \b\b- \b\b\\ \b\b| \b\b/ \b\b- \b\b\\ \b\b| \b\b/ \b\b- \b\b\\ \b\b| \b\b/ \b\b- \b\b\\ \b\b| \b\b/ \b\b- \b\b\\ \b\b| \b\b/ \b\b- \b\b\\ \b\b| \b\b/ \b\b- \b\b\\ \b\b| \b\b/ \b\b- \b\b\\ \b\b| \b\b/ \b\b- \b\b\\ \b\b| \b\b/ \b\b- \b\b\\ \b\b| \b\b/ \b\b- \b\b\\ \b\b| \b\b/ \b\b- \b\b\\ \b\b| \b\b/ \b\b- \b\b\\ \b\b| \b\b/ \b\b- \b\b\\ \b\b| \b\b/ \b\b- \b\b\\ \b\b| \b\b/ \b\b- \b\b\\ \b\b| \b\b/ \b\b- \b\b\\ \b\b| \b\b/ \b\b- \b\b\\ \b\b| \b\b/ \b\b- \b\b\\ \b\b| \b\b/ \b\b- \b\b\\ \b\b| \b\b/ \b\b- \b\b\\ \b\b| \b\b/ \b\b- \b\b\\ \b\b| \b\b/ \b\b- \b\b\\ \b\b| \b\b/ \b\b- \b\b\\ \b\b| \b\b/ \b\b- \b\b\\ \b\b| \b\b/ \b\b- \b\b\\ \b\b| \b\b/ \b\b- \b\b\\ \b\b| \b\b/ \b\b- \b\b\\ \b\b| \b\b/ \b\b- \b\b\\ \b\b| \b\b/ \b\b- \b\b\\ \b\b| \b\b/ \b\b- \b\b\\ \b\b| \b\b/ \b\b- \b\b\\ \b\b| \b\b/ \b\b- \b\b\\ \b\b| \b\b/ \b\b- \b\b\\ \b\b| \b\b/ \b\b- \b\b\\ \b\b| \b\b/ \b\b- \b\b\\ \b\b| \b\b/ \b\b- \b\b\\ \b\b| \b\b/ \b\b- \b\b\\ \b\b| \b\b/ \b\b- \b\b\\ \b\b| \b\b/ \b\b- \b\b\\ \b\b| \b\b/ \b\b- \b\b\\ \b\b| \b\b/ \b\b- \b\b\\ \b\b| \b\b/ \b\b- \b\b\\ \b\b| \b\b/ \b\b- \b\b\\ \b\b| \b\b/ \b\b- \b\b\\ \b\b| \b\b/ \b\b- \b\b\\ \b\b| \b\b/ \b\b- \b\b\\ \b\b| \b\b/ \b\b- \b\b\\ \b\b| \b\b/ \b\b- \b\b\\ \b\b| \b\b/ \b\b- \b\b\\ \b\b| \b\b/ \b\b- \b\b\\ \b\b| \b\b/ \b\b- \b\b\\ \b\b| \b\b/ \b\b- \b\b\\ \b\b| \b\b/ \b\b- \b\b\\ \b\b| \b\b/ \b\b- \b\b\\ \b\b| \b\b/ \b\b- \b\b\\ \b\b| \b\b/ \b\b- \b\b\\ \b\b| \b\b/ \b\b- \b\b\\ \b\b| \b\b/ \b\b- \b\b\\ \b\b| \b\b/ \b\b- \b\b\\ \b\b| \b\b/ \b\b- \b\b\\ \b\b| \b\b/ \b\b- \b\b\\ \b\b| \b\b/ \b\b- \b\b\\ \b\b| \b\b/ \b\b- \b\b\\ \b\b| \b\b/ \b\b- \b\b\\ \b\b| \b\b/ \b\b- \b\b\\ \b\b| \b\b/ \b\b- \b\b\\ \b\b| \b\b/ \b\b- \b\b\\ \b\b| \b\b/ \b\b- \b\b\\ \b\b| \b\b/ \b\b- \b\b\\ \b\b| \b\b/ \b\b- \b\b\\ \b\b| \b\b/ \b\b- \b\b\\ \b\b| \b\b/ \b\b- \b\b\\ \b\b| \b\b/ \b\b- \b\b\\ \b\b| \b\b/ \b\b- \b\b\\ \b\b| \b\b/ \b\b- \b\b\\ \b\b| \b\b/ \b\b- \b\b\\ \b\b| \b\b/ \b\b- \b\b\\ \b\b| \b\b/ \b\b- \b\b\\ \b\b| \b\b/ \b\b- \b\b\\ \b\b| \b\b/ \b\b- \b\b\\ \b\b| \b\b/ \b\b- \b\b\\ \b\b| \b\b/ \b\b- \b\b\\ \b\b| \b\b/ \b\b- \b\b\\ \b\b| \b\b/ \b\b- \b\b\\ \b\b| \b\b/ \b\b- \b\b\\ \b\b| \b\b/ \b\b- \b\b\\ \b\b| \b\b/ \b\b- \b\b\\ \b\b| \b\b/ \b\b- \b\b\\ \b\b| \b\b/ \b\b- \b\b\\ \b\b| \b\b/ \b\b- \b\b\\ \b\b| \b\b/ \b\b- \b\b\\ \b\b| \b\b/ \b\b- \b\b\\ \b\b| \b\b/ \b\b- \b\b\\ \b\b| \b\b/ \b\b- \b\b\\ \b\b| \b\b/ \b\b- \b\b\\ \b\b| \b\b/ \b\b- \b\b\\ \b\b| \b\b/ \b\b- \b\b\\ \b\b| \b\b/ \b\b- \b\b\\ \b\b| \b\b/ \b\b- \b\b\\ \b\b| \b\b/ \b\b- \b\b\\ \b\b| \b\b/ \b\b- \b\b\\ \b\b| \b\b/ \b\b- \b\b\\ \b\b| \b\b/ \b\b- \b\b\\ \b\b| \b\b/ \b\b- \b\b\\ \b\b| \b\b/ \b\b- \b\b\\ \b\b| \b\b/ \b\b- \b\b\\ \b\b| \b\b/ \b\b- \b\b\\ \b\b| \b\b/ \b\b- \b\b\\ \b\b| \b\b/ \b\b- \b\b\\ \b\b| \b\b/ \b\b- \b\b\\ \b\b| \b\b/ \b\b- \b\b\\ \b\b| \b\b/ \b\b- \b\b\\ \b\b| \b\b/ \b\b- \b\b\\ \b\b| \b\b/ \b\b- \b\b\\ \b\b| \b\b/ \b\b- \b\b\\ \b\b| \b\b/ \b\b- \b\b\\ \b\b| \b\b/ \b\b- \b\b\\ \b\b| \b\b/ \b\b- \b\b\\ \b\b| \b\b/ \b\b- \b\b\\ \b\b| \b\b/ \b\b- \b\b\\ \b\b| \b\b/ \b\b- \b\b\\ \b\b| \b\b/ \b\b- \b\b\\ \b\b| \b\b/ \b\b- \b\b\\ \b\b| \b\b/ \b\b- \b\b\\ \b\b| \b\b/ \b\b- \b\b\\ \b\b| \b\b/ \b\b- \b\b\\ \b\b| \b\b/ \b\b- \b\b\\ \b\b| \b\b/ \b\b- \b\b\\ \b\b| \b\b/ \b\b- \b\b\\ \b\b| \b\b/ \b\b- \b\b\\ \b\b| \b\b/ \b\b- \b\b\\ \b\b| \b\b/ \b\b- \b\b\\ \b\b| \b\b/ \b\b- \b\b\\ \b\b| \b\b/ \b\b- \b\b\\ \b\b| \b\b/ \b\b- \b\b\\ \b\b| \b\b/ \b\b- \b\b\\ \b\b| \b\b/ \b\b- \b\b\\ \b\b| \b\b/ \b\b- \b\b\\ \b\b| \b\b/ \b\b- \b\b\\ \b\b| \b\b/ \b\b- \b\b\\ \b\b| \b\b/ \b\b- \b\b\\ \b\b| \b\b/ \b\b- \b\b\\ \b\b| \b\b/ \b\b- Ran pip subprocess with arguments:\n",
            "['/usr/local/bin/python', '-m', 'pip', 'install', '-U', '-r', '/content/stable-diffusion-colab/condaenv.c0xb7q3_.requirements.txt']\n",
            "Pip subprocess output:\n",
            "Looking in indexes: https://pypi.org/simple, https://us-python.pkg.dev/colab-wheels/public/simple/\n",
            "Obtaining taming-transformers from git+https://github.com/CompVis/taming-transformers#egg=taming-transformers (from -r /content/stable-diffusion-colab/condaenv.c0xb7q3_.requirements.txt (line 23))\n",
            "  Cloning https://github.com/CompVis/taming-transformers to ./src/taming-transformers\n",
            "Obtaining clip from git+https://github.com/openai/CLIP#egg=clip (from -r /content/stable-diffusion-colab/condaenv.c0xb7q3_.requirements.txt (line 24))\n",
            "  Cloning https://github.com/openai/CLIP to ./src/clip\n",
            "Obtaining GFPGAN from git+https://github.com/TencentARC/GFPGAN#egg=GFPGAN (from -r /content/stable-diffusion-colab/condaenv.c0xb7q3_.requirements.txt (line 25))\n",
            "  Cloning https://github.com/TencentARC/GFPGAN to ./src/gfpgan\n",
            "Obtaining realesrgan from git+https://github.com/xinntao/Real-ESRGAN#egg=realesrgan (from -r /content/stable-diffusion-colab/condaenv.c0xb7q3_.requirements.txt (line 26))\n",
            "  Cloning https://github.com/xinntao/Real-ESRGAN to ./src/realesrgan\n",
            "Obtaining k_diffusion from git+https://github.com/hlky/k-diffusion-sd#egg=k_diffusion (from -r /content/stable-diffusion-colab/condaenv.c0xb7q3_.requirements.txt (line 27))\n",
            "  Cloning https://github.com/hlky/k-diffusion-sd to ./src/k-diffusion\n",
            "  Installing build dependencies: started\n",
            "  Installing build dependencies: finished with status 'done'\n",
            "  Getting requirements to build wheel: started\n",
            "  Getting requirements to build wheel: finished with status 'done'\n",
            "  Installing backend dependencies: started\n",
            "  Installing backend dependencies: finished with status 'done'\n",
            "    Preparing wheel metadata: started\n",
            "    Preparing wheel metadata: finished with status 'done'\n",
            "Obtaining file:///content/stable-diffusion-colab (from -r /content/stable-diffusion-colab/condaenv.c0xb7q3_.requirements.txt (line 28))\n",
            "Requirement already satisfied: tqdm in /usr/local/lib/python3.8/site-packages (from clip->-r /content/stable-diffusion-colab/condaenv.c0xb7q3_.requirements.txt (line 24)) (4.63.0)\n",
            "Requirement already satisfied: torch in /usr/local/lib/python3.8/site-packages (from clip->-r /content/stable-diffusion-colab/condaenv.c0xb7q3_.requirements.txt (line 24)) (1.11.0)\n",
            "Requirement already satisfied: torchvision in /usr/local/lib/python3.8/site-packages (from clip->-r /content/stable-diffusion-colab/condaenv.c0xb7q3_.requirements.txt (line 24)) (0.12.0)\n",
            "Requirement already satisfied: numpy in /usr/local/lib/python3.8/site-packages (from GFPGAN->-r /content/stable-diffusion-colab/condaenv.c0xb7q3_.requirements.txt (line 25)) (1.19.2)\n",
            "Requirement already satisfied: Pillow in /usr/local/lib/python3.8/site-packages (from k_diffusion->-r /content/stable-diffusion-colab/condaenv.c0xb7q3_.requirements.txt (line 27)) (9.0.1)\n",
            "Collecting accelerate==0.12.0\n",
            "  Downloading accelerate-0.12.0-py3-none-any.whl (143 kB)\n",
            "Collecting albumentations==0.4.3\n",
            "  Downloading albumentations-0.4.3.tar.gz (3.2 MB)\n",
            "Collecting einops==0.3.0\n",
            "  Downloading einops-0.3.0-py2.py3-none-any.whl (25 kB)\n",
            "Collecting gradio==3.1.6\n",
            "  Downloading gradio-3.1.6-py3-none-any.whl (6.1 MB)\n",
            "Requirement already satisfied: requests in /usr/local/lib/python3.8/site-packages (from gradio==3.1.6->-r /content/stable-diffusion-colab/condaenv.c0xb7q3_.requirements.txt (line 16)) (2.27.1)\n",
            "Collecting imageio==2.9.0\n",
            "  Downloading imageio-2.9.0-py3-none-any.whl (3.3 MB)\n",
            "Collecting imageio-ffmpeg==0.4.2\n",
            "  Downloading imageio_ffmpeg-0.4.2-py3-none-manylinux2010_x86_64.whl (26.9 MB)\n",
            "Collecting kornia==0.6\n",
            "  Downloading kornia-0.6.0-py2.py3-none-any.whl (367 kB)\n",
            "Collecting omegaconf==2.1.1\n",
            "  Downloading omegaconf-2.1.1-py3-none-any.whl (74 kB)\n",
            "Collecting opencv-python==4.1.2.30\n",
            "  Downloading opencv_python-4.1.2.30-cp38-cp38-manylinux1_x86_64.whl (28.3 MB)\n",
            "Collecting opencv-python-headless==4.1.2.30\n",
            "  Downloading opencv_python_headless-4.1.2.30-cp38-cp38-manylinux1_x86_64.whl (21.8 MB)\n",
            "Collecting pudb==2019.2\n",
            "  Downloading pudb-2019.2.tar.gz (59 kB)\n",
            "Collecting pynvml==11.4.1\n",
            "  Downloading pynvml-11.4.1-py3-none-any.whl (46 kB)\n",
            "Collecting pytorch-lightning==1.4.2\n",
            "  Downloading pytorch_lightning-1.4.2-py3-none-any.whl (916 kB)\n",
            "Requirement already satisfied: typing-extensions in /usr/local/lib/python3.8/site-packages (from pytorch-lightning==1.4.2->-r /content/stable-diffusion-colab/condaenv.c0xb7q3_.requirements.txt (line 7)) (4.3.0)\n",
            "Collecting torch-fidelity==0.3.0\n",
            "  Downloading torch_fidelity-0.3.0-py3-none-any.whl (37 kB)\n",
            "Collecting torchmetrics==0.6.0\n",
            "  Downloading torchmetrics-0.6.0-py3-none-any.whl (329 kB)\n",
            "Collecting transformers==4.19.2\n",
            "  Downloading transformers-4.19.2-py3-none-any.whl (4.2 MB)\n",
            "Collecting antlr4-python3-runtime==4.8\n",
            "  Downloading antlr4-python3-runtime-4.8.tar.gz (112 kB)\n",
            "Collecting pyDeprecate==0.3.1\n",
            "  Downloading pyDeprecate-0.3.1-py3-none-any.whl (10 kB)\n",
            "Collecting basicsr>=1.3.4.0\n",
            "  Downloading basicsr-1.4.2.tar.gz (172 kB)\n",
            "Collecting facexlib>=0.2.3\n",
            "  Downloading facexlib-0.2.5-py3-none-any.whl (59 kB)\n",
            "Collecting python-slugify>=6.1.2\n",
            "  Downloading python_slugify-6.1.2-py2.py3-none-any.whl (9.4 kB)\n",
            "Collecting streamlit>=0.73.1\n",
            "  Downloading streamlit-1.12.2-py2.py3-none-any.whl (9.1 MB)\n",
            "Collecting test-tube>=0.7.5\n",
            "  Downloading test_tube-0.7.5.tar.gz (21 kB)\n",
            "Collecting altair>=3.2.0\n",
            "  Downloading altair-4.2.0-py3-none-any.whl (812 kB)\n",
            "Requirement already satisfied: toolz in /usr/local/lib/python3.8/site-packages (from altair>=3.2.0->streamlit>=0.73.1->-r /content/stable-diffusion-colab/condaenv.c0xb7q3_.requirements.txt (line 10)) (0.11.2)\n",
            "Collecting blinker>=1.0.0\n",
            "  Downloading blinker-1.5-py2.py3-none-any.whl (12 kB)\n",
            "Collecting cachetools>=4.0\n",
            "  Downloading cachetools-5.2.0-py3-none-any.whl (9.3 kB)\n",
            "Collecting click>=7.0\n",
            "  Downloading click-8.1.3-py3-none-any.whl (96 kB)\n",
            "Collecting fsspec\n",
            "  Downloading fsspec-2022.8.2-py3-none-any.whl (140 kB)\n",
            "Collecting aiohttp\n",
            "  Downloading aiohttp-3.8.1-cp38-cp38-manylinux_2_5_x86_64.manylinux1_x86_64.manylinux_2_12_x86_64.manylinux2010_x86_64.whl (1.3 MB)\n",
            "Requirement already satisfied: charset-normalizer<3.0,>=2.0 in /usr/local/lib/python3.8/site-packages (from aiohttp->gradio==3.1.6->-r /content/stable-diffusion-colab/condaenv.c0xb7q3_.requirements.txt (line 16)) (2.0.4)\n",
            "Collecting aiosignal>=1.1.2\n",
            "  Downloading aiosignal-1.2.0-py3-none-any.whl (8.2 kB)\n",
            "Collecting async-timeout<5.0,>=4.0.0a3\n",
            "  Downloading async_timeout-4.0.2-py3-none-any.whl (5.8 kB)\n",
            "Collecting attrs>=17.3.0\n",
            "  Downloading attrs-22.1.0-py2.py3-none-any.whl (58 kB)\n",
            "Collecting frozenlist>=1.1.1\n",
            "  Downloading frozenlist-1.3.1-cp38-cp38-manylinux_2_5_x86_64.manylinux1_x86_64.manylinux_2_17_x86_64.manylinux2014_x86_64.whl (161 kB)\n",
            "Collecting future>=0.17.1\n",
            "  Downloading future-0.18.2.tar.gz (829 kB)\n",
            "Collecting gitpython!=3.1.19\n",
            "  Downloading GitPython-3.1.27-py3-none-any.whl (181 kB)\n",
            "Collecting gitdb<5,>=4.0.1\n",
            "  Downloading gitdb-4.0.9-py3-none-any.whl (63 kB)\n",
            "Collecting h11<0.13,>=0.11\n",
            "  Downloading h11-0.12.0-py3-none-any.whl (54 kB)\n",
            "Collecting huggingface-hub<1.0,>=0.1.0\n",
            "  Downloading huggingface_hub-0.9.1-py3-none-any.whl (120 kB)\n",
            "Collecting imgaug<0.2.7,>=0.2.5\n",
            "  Downloading imgaug-0.2.6.tar.gz (631 kB)\n",
            "Requirement already satisfied: six in /usr/local/lib/python3.8/site-packages (from imgaug<0.2.7,>=0.2.5->albumentations==0.4.3->-r /content/stable-diffusion-colab/condaenv.c0xb7q3_.requirements.txt (line 1)) (1.16.0)\n",
            "Collecting importlib-metadata>=1.4\n",
            "  Downloading importlib_metadata-4.12.0-py3-none-any.whl (21 kB)\n",
            "Collecting jsonschema>=3.0\n",
            "  Downloading jsonschema-4.15.0-py3-none-any.whl (82 kB)\n",
            "Collecting importlib-resources>=1.4.0\n",
            "  Downloading importlib_resources-5.9.0-py3-none-any.whl (33 kB)\n",
            "Collecting multidict<7.0,>=4.5\n",
            "  Downloading multidict-6.0.2-cp38-cp38-manylinux_2_17_x86_64.manylinux2014_x86_64.whl (121 kB)\n",
            "Collecting packaging>=20.0\n",
            "  Downloading packaging-21.3-py3-none-any.whl (40 kB)\n",
            "Collecting pandas\n",
            "  Downloading pandas-1.4.4-cp38-cp38-manylinux_2_17_x86_64.manylinux2014_x86_64.whl (11.7 MB)\n",
            "Collecting pkgutil-resolve-name>=1.3.10\n",
            "  Downloading pkgutil_resolve_name-1.3.10-py3-none-any.whl (4.7 kB)\n",
            "Collecting protobuf<4,>=3.12\n",
            "  Downloading protobuf-3.20.1-cp38-cp38-manylinux_2_5_x86_64.manylinux1_x86_64.whl (1.0 MB)\n",
            "Collecting pyarrow>=4.0\n",
            "  Downloading pyarrow-9.0.0-cp38-cp38-manylinux_2_17_x86_64.manylinux2014_x86_64.whl (35.3 MB)\n",
            "Collecting pydeck>=0.1.dev5\n",
            "  Downloading pydeck-0.8.0b1-py2.py3-none-any.whl (4.7 MB)\n",
            "Collecting Jinja2\n",
            "  Downloading Jinja2-3.1.2-py3-none-any.whl (133 kB)\n",
            "Collecting MarkupSafe>=2.0\n",
            "  Downloading MarkupSafe-2.1.1-cp38-cp38-manylinux_2_17_x86_64.manylinux2014_x86_64.whl (25 kB)\n",
            "Collecting pygments>=1.0\n",
            "  Downloading Pygments-2.13.0-py3-none-any.whl (1.1 MB)\n",
            "Collecting pympler>=0.9\n",
            "  Downloading Pympler-1.0.1-py3-none-any.whl (164 kB)\n",
            "Collecting pyparsing!=3.0.5,>=2.0.2\n",
            "  Downloading pyparsing-3.0.9-py3-none-any.whl (98 kB)\n",
            "Collecting pyrsistent!=0.17.0,!=0.17.1,!=0.17.2,>=0.14.0\n",
            "  Downloading pyrsistent-0.18.1-cp38-cp38-manylinux_2_17_x86_64.manylinux2014_x86_64.whl (119 kB)\n",
            "Collecting python-dateutil\n",
            "  Downloading python_dateutil-2.8.2-py2.py3-none-any.whl (247 kB)\n",
            "Collecting pytz>=2020.1\n",
            "  Downloading pytz-2022.2.1-py2.py3-none-any.whl (500 kB)\n",
            "Collecting pyyaml\n",
            "  Downloading PyYAML-6.0-cp38-cp38-manylinux_2_5_x86_64.manylinux1_x86_64.manylinux_2_12_x86_64.manylinux2010_x86_64.whl (701 kB)\n",
            "Collecting regex\n",
            "  Downloading regex-2022.8.17-cp38-cp38-manylinux_2_17_x86_64.manylinux2014_x86_64.whl (768 kB)\n",
            "Requirement already satisfied: idna<4,>=2.5 in /usr/local/lib/python3.8/site-packages (from requests->gradio==3.1.6->-r /content/stable-diffusion-colab/condaenv.c0xb7q3_.requirements.txt (line 16)) (3.3)\n",
            "Requirement already satisfied: urllib3<1.27,>=1.21.1 in /usr/local/lib/python3.8/site-packages (from requests->gradio==3.1.6->-r /content/stable-diffusion-colab/condaenv.c0xb7q3_.requirements.txt (line 16)) (1.26.8)\n",
            "Requirement already satisfied: certifi>=2017.4.17 in /usr/local/lib/python3.8/site-packages (from requests->gradio==3.1.6->-r /content/stable-diffusion-colab/condaenv.c0xb7q3_.requirements.txt (line 16)) (2022.6.15)\n",
            "Collecting rich>=10.11.0\n",
            "  Downloading rich-12.5.1-py3-none-any.whl (235 kB)\n",
            "Collecting commonmark<0.10.0,>=0.9.0\n",
            "  Downloading commonmark-0.9.1-py2.py3-none-any.whl (51 kB)\n",
            "Collecting scikit-image\n",
            "  Downloading scikit_image-0.19.3-cp38-cp38-manylinux_2_17_x86_64.manylinux2014_x86_64.whl (14.0 MB)\n",
            "Collecting networkx>=2.2\n",
            "  Downloading networkx-2.8.6-py3-none-any.whl (2.0 MB)\n",
            "Collecting PyWavelets>=1.1.1\n",
            "  Downloading PyWavelets-1.3.0-cp38-cp38-manylinux_2_17_x86_64.manylinux2014_x86_64.whl (6.9 MB)\n",
            "Collecting scipy\n",
            "  Downloading scipy-1.9.1-cp38-cp38-manylinux_2_17_x86_64.manylinux2014_x86_64.whl (43.4 MB)\n",
            "Collecting smmap<6,>=3.0.1\n",
            "  Downloading smmap-5.0.0-py3-none-any.whl (24 kB)\n",
            "Collecting tensorboard>=2.2.0\n",
            "  Downloading tensorboard-2.10.0-py3-none-any.whl (5.9 MB)\n",
            "Requirement already satisfied: wheel>=0.26 in /usr/local/lib/python3.8/site-packages (from tensorboard>=2.2.0->pytorch-lightning==1.4.2->-r /content/stable-diffusion-colab/condaenv.c0xb7q3_.requirements.txt (line 7)) (0.37.1)\n",
            "Requirement already satisfied: setuptools>=41.0.0 in /usr/local/lib/python3.8/site-packages (from tensorboard>=2.2.0->pytorch-lightning==1.4.2->-r /content/stable-diffusion-colab/condaenv.c0xb7q3_.requirements.txt (line 7)) (63.4.1)\n",
            "Collecting absl-py>=0.4\n",
            "  Downloading absl_py-1.2.0-py3-none-any.whl (123 kB)\n",
            "Collecting google-auth<3,>=1.6.3\n",
            "  Downloading google_auth-2.11.0-py2.py3-none-any.whl (167 kB)\n",
            "Collecting google-auth-oauthlib<0.5,>=0.4.1\n",
            "  Downloading google_auth_oauthlib-0.4.6-py2.py3-none-any.whl (18 kB)\n",
            "Collecting grpcio>=1.24.3\n",
            "  Downloading grpcio-1.48.1-cp38-cp38-manylinux_2_17_x86_64.manylinux2014_x86_64.whl (4.6 MB)\n",
            "Collecting markdown>=2.6.8\n",
            "  Downloading Markdown-3.4.1-py3-none-any.whl (93 kB)\n",
            "Collecting protobuf<4,>=3.12\n",
            "  Downloading protobuf-3.19.4-cp38-cp38-manylinux_2_17_x86_64.manylinux2014_x86_64.whl (1.1 MB)\n",
            "Collecting pyasn1-modules>=0.2.1\n",
            "  Downloading pyasn1_modules-0.2.8-py2.py3-none-any.whl (155 kB)\n",
            "Collecting pyasn1<0.5.0,>=0.4.6\n",
            "  Downloading pyasn1-0.4.8-py2.py3-none-any.whl (77 kB)\n",
            "Collecting requests-oauthlib>=0.7.0\n",
            "  Downloading requests_oauthlib-1.3.1-py2.py3-none-any.whl (23 kB)\n",
            "Collecting oauthlib>=3.0.0\n",
            "  Downloading oauthlib-3.2.0-py3-none-any.whl (151 kB)\n",
            "Collecting rsa<5,>=3.1.4\n",
            "  Downloading rsa-4.9-py3-none-any.whl (34 kB)\n",
            "Collecting tensorboard-data-server<0.7.0,>=0.6.0\n",
            "  Downloading tensorboard_data_server-0.6.1-py3-none-manylinux2010_x86_64.whl (4.9 MB)\n",
            "Collecting tensorboard-plugin-wit>=1.6.0\n",
            "  Downloading tensorboard_plugin_wit-1.8.1-py3-none-any.whl (781 kB)\n",
            "Collecting text-unidecode>=1.3\n",
            "  Downloading text_unidecode-1.3-py2.py3-none-any.whl (78 kB)\n",
            "Collecting tifffile>=2019.7.26\n",
            "  Downloading tifffile-2022.8.12-py3-none-any.whl (208 kB)\n",
            "Collecting tokenizers!=0.11.3,<0.13,>=0.11.1\n",
            "  Downloading tokenizers-0.12.1-cp38-cp38-manylinux_2_12_x86_64.manylinux2010_x86_64.whl (6.6 MB)\n",
            "Collecting tornado>=5.0\n",
            "  Downloading tornado-6.2-cp37-abi3-manylinux_2_5_x86_64.manylinux1_x86_64.manylinux_2_17_x86_64.manylinux2014_x86_64.whl (423 kB)\n",
            "Collecting tzlocal>=1.1\n",
            "  Downloading tzlocal-4.2-py3-none-any.whl (19 kB)\n",
            "Collecting urwid>=1.1.1\n",
            "  Downloading urwid-2.1.2.tar.gz (634 kB)\n",
            "Collecting validators>=0.2\n",
            "  Downloading validators-0.20.0.tar.gz (30 kB)\n",
            "Collecting decorator>=3.4.0\n",
            "  Downloading decorator-5.1.1-py3-none-any.whl (9.1 kB)\n",
            "Collecting werkzeug>=1.0.1\n",
            "  Downloading Werkzeug-2.2.2-py3-none-any.whl (232 kB)\n",
            "Collecting yarl<2.0,>=1.0\n",
            "  Downloading yarl-1.8.1-cp38-cp38-manylinux_2_17_x86_64.manylinux2014_x86_64.whl (262 kB)\n",
            "Collecting zipp>=0.5\n",
            "  Downloading zipp-3.8.1-py3-none-any.whl (5.6 kB)\n",
            "Collecting addict\n",
            "  Downloading addict-2.4.0-py3-none-any.whl (3.8 kB)\n",
            "Collecting analytics-python\n",
            "  Downloading analytics_python-1.4.0-py2.py3-none-any.whl (15 kB)\n",
            "Collecting backoff==1.10.0\n",
            "  Downloading backoff-1.10.0-py2.py3-none-any.whl (31 kB)\n",
            "Collecting monotonic>=1.5\n",
            "  Downloading monotonic-1.6-py2.py3-none-any.whl (8.2 kB)\n",
            "Collecting backports.zoneinfo\n",
            "  Downloading backports.zoneinfo-0.2.1-cp38-cp38-manylinux1_x86_64.whl (74 kB)\n",
            "Collecting clean-fid\n",
            "  Downloading clean_fid-0.1.30-py3-none-any.whl (24 kB)\n",
            "Collecting requests\n",
            "  Downloading requests-2.25.1-py2.py3-none-any.whl (61 kB)\n",
            "Collecting chardet<5,>=3.0.2\n",
            "  Downloading chardet-4.0.0-py2.py3-none-any.whl (178 kB)\n",
            "Collecting idna<4,>=2.5\n",
            "  Downloading idna-2.10-py2.py3-none-any.whl (58 kB)\n",
            "Collecting entrypoints\n",
            "  Downloading entrypoints-0.4-py3-none-any.whl (5.3 kB)\n",
            "Collecting fastapi\n",
            "  Downloading fastapi-0.82.0-py3-none-any.whl (55 kB)\n",
            "Collecting starlette==0.19.1\n",
            "  Downloading starlette-0.19.1-py3-none-any.whl (63 kB)\n",
            "Collecting anyio<5,>=3.4.0\n",
            "  Downloading anyio-3.6.1-py3-none-any.whl (80 kB)\n",
            "Collecting pydantic\n",
            "  Downloading pydantic-1.10.2-cp38-cp38-manylinux_2_17_x86_64.manylinux2014_x86_64.whl (13.6 MB)\n",
            "Collecting sniffio>=1.1\n",
            "  Downloading sniffio-1.3.0-py3-none-any.whl (10 kB)\n",
            "Collecting ffmpy\n",
            "  Downloading ffmpy-0.3.0.tar.gz (4.8 kB)\n",
            "Collecting filelock\n",
            "  Downloading filelock-3.8.0-py3-none-any.whl (10 kB)\n",
            "Collecting filterpy\n",
            "  Downloading filterpy-1.4.5.zip (177 kB)\n",
            "Collecting ftfy\n",
            "  Downloading ftfy-6.1.1-py3-none-any.whl (53 kB)\n",
            "Collecting wcwidth>=0.2.5\n",
            "  Downloading wcwidth-0.2.5-py2.py3-none-any.whl (30 kB)\n",
            "Collecting httpx\n",
            "  Downloading httpx-0.23.0-py3-none-any.whl (84 kB)\n",
            "Collecting httpcore<0.16.0,>=0.15.0\n",
            "  Downloading httpcore-0.15.0-py3-none-any.whl (68 kB)\n",
            "Collecting rfc3986[idna2008]<2,>=1.3\n",
            "  Downloading rfc3986-1.5.0-py2.py3-none-any.whl (31 kB)\n",
            "Collecting jsonmerge\n",
            "  Downloading jsonmerge-1.8.0.tar.gz (26 kB)\n",
            "Collecting lmdb\n",
            "  Downloading lmdb-1.3.0-cp38-cp38-manylinux_2_12_x86_64.manylinux2010_x86_64.whl (305 kB)\n",
            "Collecting markdown-it-py[linkify,plugins]\n",
            "  Downloading markdown_it_py-2.1.0-py3-none-any.whl (84 kB)\n",
            "Collecting linkify-it-py~=1.0\n",
            "  Downloading linkify_it_py-1.0.3-py3-none-any.whl (19 kB)\n",
            "Collecting mdurl~=0.1\n",
            "  Downloading mdurl-0.1.2-py3-none-any.whl (10.0 kB)\n",
            "Collecting matplotlib\n",
            "  Downloading matplotlib-3.5.3-cp38-cp38-manylinux_2_5_x86_64.manylinux1_x86_64.whl (11.3 MB)\n",
            "Collecting cycler>=0.10\n",
            "  Downloading cycler-0.11.0-py3-none-any.whl (6.4 kB)\n",
            "Collecting fonttools>=4.22.0\n",
            "  Downloading fonttools-4.37.1-py3-none-any.whl (957 kB)\n",
            "Collecting kiwisolver>=1.0.1\n",
            "  Downloading kiwisolver-1.4.4-cp38-cp38-manylinux_2_5_x86_64.manylinux1_x86_64.whl (1.2 MB)\n",
            "Collecting mdit-py-plugins\n",
            "  Downloading mdit_py_plugins-0.3.0-py3-none-any.whl (43 kB)\n",
            "Collecting numba\n",
            "  Downloading numba-0.56.2-cp38-cp38-manylinux2014_x86_64.manylinux_2_17_x86_64.whl (3.5 MB)\n",
            "Collecting llvmlite<0.40,>=0.39.0dev0\n",
            "  Downloading llvmlite-0.39.1-cp38-cp38-manylinux_2_17_x86_64.manylinux2014_x86_64.whl (34.6 MB)\n",
            "Collecting orjson\n",
            "  Downloading orjson-3.8.0-cp38-cp38-manylinux_2_17_x86_64.manylinux2014_x86_64.whl (270 kB)\n",
            "Collecting paramiko\n",
            "  Downloading paramiko-2.11.0-py2.py3-none-any.whl (212 kB)\n",
            "Requirement already satisfied: cryptography>=2.5 in /usr/local/lib/python3.8/site-packages (from paramiko->gradio==3.1.6->-r /content/stable-diffusion-colab/condaenv.c0xb7q3_.requirements.txt (line 16)) (37.0.1)\n",
            "Collecting bcrypt>=3.1.3\n",
            "  Downloading bcrypt-4.0.0-cp36-abi3-manylinux_2_24_x86_64.whl (594 kB)\n",
            "Requirement already satisfied: cffi>=1.12 in /usr/local/lib/python3.8/site-packages (from cryptography>=2.5->paramiko->gradio==3.1.6->-r /content/stable-diffusion-colab/condaenv.c0xb7q3_.requirements.txt (line 16)) (1.15.0)\n",
            "Requirement already satisfied: pycparser in /usr/local/lib/python3.8/site-packages (from cffi>=1.12->cryptography>=2.5->paramiko->gradio==3.1.6->-r /content/stable-diffusion-colab/condaenv.c0xb7q3_.requirements.txt (line 16)) (2.21)\n",
            "Collecting pynacl>=1.0.1\n",
            "  Downloading PyNaCl-1.5.0-cp36-abi3-manylinux_2_17_x86_64.manylinux2014_x86_64.manylinux_2_24_x86_64.whl (856 kB)\n",
            "Collecting psutil\n",
            "  Downloading psutil-5.9.2-cp38-cp38-manylinux_2_12_x86_64.manylinux2010_x86_64.manylinux_2_17_x86_64.manylinux2014_x86_64.whl (284 kB)\n",
            "Collecting pycryptodome\n",
            "  Downloading pycryptodome-3.15.0-cp35-abi3-manylinux2010_x86_64.whl (2.3 MB)\n",
            "Collecting pydub\n",
            "  Downloading pydub-0.25.1-py2.py3-none-any.whl (32 kB)\n",
            "Collecting python-multipart\n",
            "  Downloading python-multipart-0.0.5.tar.gz (32 kB)\n",
            "Collecting pytz-deprecation-shim\n",
            "  Downloading pytz_deprecation_shim-0.1.0.post0-py2.py3-none-any.whl (15 kB)\n",
            "Collecting resize-right\n",
            "  Downloading resize_right-0.0.2-py3-none-any.whl (8.9 kB)\n",
            "Collecting semver\n",
            "  Downloading semver-2.13.0-py2.py3-none-any.whl (12 kB)\n",
            "Collecting tb-nightly\n",
            "  Downloading tb_nightly-2.11.0a20220907-py3-none-any.whl (5.9 MB)\n",
            "Collecting toml\n",
            "  Downloading toml-0.10.2-py2.py3-none-any.whl (16 kB)\n",
            "Collecting torchdiffeq\n",
            "  Downloading torchdiffeq-0.2.3-py3-none-any.whl (31 kB)\n",
            "Collecting tzdata\n",
            "  Downloading tzdata-2022.2-py2.py3-none-any.whl (336 kB)\n",
            "Collecting uc-micro-py\n",
            "  Downloading uc_micro_py-1.0.1-py3-none-any.whl (6.2 kB)\n",
            "Collecting uvicorn\n",
            "  Downloading uvicorn-0.18.3-py3-none-any.whl (57 kB)\n",
            "Collecting wandb\n",
            "  Downloading wandb-0.13.2-py2.py3-none-any.whl (1.8 MB)\n",
            "Collecting docker-pycreds>=0.4.0\n",
            "  Downloading docker_pycreds-0.4.0-py2.py3-none-any.whl (9.0 kB)\n",
            "Collecting promise<3,>=2.0\n",
            "  Downloading promise-2.3.tar.gz (19 kB)\n",
            "Collecting sentry-sdk>=1.0.0\n",
            "  Downloading sentry_sdk-1.9.8-py2.py3-none-any.whl (158 kB)\n",
            "Collecting shortuuid>=0.5.0\n",
            "  Downloading shortuuid-1.0.9-py3-none-any.whl (9.4 kB)\n",
            "Collecting urllib3<1.27,>=1.21.1\n",
            "  Downloading urllib3-1.26.12-py2.py3-none-any.whl (140 kB)\n",
            "Collecting pathtools\n",
            "  Downloading pathtools-0.1.2.tar.gz (11 kB)\n",
            "Collecting setproctitle\n",
            "  Downloading setproctitle-1.3.2-cp38-cp38-manylinux_2_5_x86_64.manylinux1_x86_64.manylinux_2_17_x86_64.manylinux2014_x86_64.whl (31 kB)\n",
            "Collecting watchdog\n",
            "  Downloading watchdog-2.1.9-py3-none-manylinux2014_x86_64.whl (78 kB)\n",
            "Collecting websockets\n",
            "  Downloading websockets-10.3-cp38-cp38-manylinux_2_5_x86_64.manylinux1_x86_64.manylinux_2_12_x86_64.manylinux2010_x86_64.whl (111 kB)\n",
            "Collecting yapf\n",
            "  Downloading yapf-0.32.0-py2.py3-none-any.whl (190 kB)\n",
            "Collecting setuptools>=41.0.0\n",
            "  Downloading setuptools-59.8.0-py3-none-any.whl (952 kB)\n",
            "Building wheels for collected packages: albumentations, pudb, antlr4-python3-runtime, basicsr, test-tube, future, imgaug, urwid, validators, ffmpy, filterpy, jsonmerge, python-multipart, promise, pathtools\n",
            "  Building wheel for albumentations (setup.py): started\n",
            "  Building wheel for albumentations (setup.py): finished with status 'done'\n",
            "  Created wheel for albumentations: filename=albumentations-0.4.3-py3-none-any.whl size=60767 sha256=061959522f9742a700cb62e5d841407919db6d1cc3d810b3a5c0b10a403e556c\n",
            "  Stored in directory: /root/.cache/pip/wheels/a0/37/4e/0bd417ba6a58f73329b825623d8c949e8e4ac2cdbd252b786d\n",
            "  Building wheel for pudb (setup.py): started\n",
            "  Building wheel for pudb (setup.py): finished with status 'done'\n",
            "  Created wheel for pudb: filename=pudb-2019.2-py3-none-any.whl size=63218 sha256=3c26489a56babc4b28709e8475169f5694a4c7aa7a09a802c4e04e44b07456b7\n",
            "  Stored in directory: /root/.cache/pip/wheels/48/83/f1/d8a09d401e2512bfda01ac9fc1b334885f9ddf51617c1c49f1\n",
            "  Building wheel for antlr4-python3-runtime (setup.py): started\n",
            "  Building wheel for antlr4-python3-runtime (setup.py): finished with status 'done'\n",
            "  Created wheel for antlr4-python3-runtime: filename=antlr4_python3_runtime-4.8-py3-none-any.whl size=141210 sha256=bbd7bbca3589a7f3f7daff43709a843dece6e29c5afeb3f9ccb67d472fd3e1eb\n",
            "  Stored in directory: /root/.cache/pip/wheels/c8/d0/ab/d43c02eaddc5b9004db86950802442ad9a26f279c619e28da0\n",
            "  Building wheel for basicsr (setup.py): started\n",
            "  Building wheel for basicsr (setup.py): finished with status 'done'\n",
            "  Created wheel for basicsr: filename=basicsr-1.4.2-py3-none-any.whl size=214823 sha256=97f6bd57b3d59182f424a9f0d8b5378aa42831824f6838bd0adcf5b86c3ae29d\n",
            "  Stored in directory: /root/.cache/pip/wheels/4d/d3/95/e17d0bcdd7dcfb0dbf79db006711e434c42036efbf6695ef7f\n",
            "  Building wheel for test-tube (setup.py): started\n",
            "  Building wheel for test-tube (setup.py): finished with status 'done'\n",
            "  Created wheel for test-tube: filename=test_tube-0.7.5-py3-none-any.whl size=25328 sha256=096688643974cf60271d4474a052a2f339fdf01ed85ae3a8c008024b427abdf1\n",
            "  Stored in directory: /root/.cache/pip/wheels/95/b0/3a/00ea66dbb0d9ce470ce1bdcb854a6fa030c279c316cb27ca9e\n",
            "  Building wheel for future (setup.py): started\n",
            "  Building wheel for future (setup.py): finished with status 'done'\n",
            "  Created wheel for future: filename=future-0.18.2-py3-none-any.whl size=491058 sha256=ae0360d660db81b980b5d49451076f081966c7ce199f0100e3f2314a0254e5c8\n",
            "  Stored in directory: /root/.cache/pip/wheels/8e/70/28/3d6ccd6e315f65f245da085482a2e1c7d14b90b30f239e2cf4\n",
            "  Building wheel for imgaug (setup.py): started\n",
            "  Building wheel for imgaug (setup.py): finished with status 'done'\n",
            "  Created wheel for imgaug: filename=imgaug-0.2.6-py3-none-any.whl size=654004 sha256=122b87fc37b057debe6be165e1db0e87cbf5f8d244ac2bd9682cbcb00d19fa3d\n",
            "  Stored in directory: /root/.cache/pip/wheels/41/23/e8/b1016c275f713978d312621da3c4f55920ec4297798aba8a5a\n",
            "  Building wheel for urwid (setup.py): started\n",
            "  Building wheel for urwid (setup.py): finished with status 'done'\n",
            "  Created wheel for urwid: filename=urwid-2.1.2-cp38-cp38-linux_x86_64.whl size=259427 sha256=bacda82336109e65688e263c4882e511991b397a20c271b3797f1fec30bb3ab2\n",
            "  Stored in directory: /root/.cache/pip/wheels/28/71/e4/38b5d81438105d0e3db5016cf2eea6fa796d89d96a04451d4d\n",
            "  Building wheel for validators (setup.py): started\n",
            "  Building wheel for validators (setup.py): finished with status 'done'\n",
            "  Created wheel for validators: filename=validators-0.20.0-py3-none-any.whl size=19579 sha256=2e004c068ef35762a9008d7035c1c294473ce54a4d7dfed219be99b5035c8b88\n",
            "  Stored in directory: /root/.cache/pip/wheels/19/09/72/3eb74d236bb48bd0f3c6c3c83e4e0c5bbfcbcad7c6c3539db8\n",
            "  Building wheel for ffmpy (setup.py): started\n",
            "  Building wheel for ffmpy (setup.py): finished with status 'done'\n",
            "  Created wheel for ffmpy: filename=ffmpy-0.3.0-py3-none-any.whl size=4693 sha256=03df1be5680a90d53cfd09f0bfa9d212e0c5da924373db7cd71829965aae40e4\n",
            "  Stored in directory: /root/.cache/pip/wheels/ff/5b/59/913b443e7369dc04b61f607a746b6f7d83fb65e2e19fcc958d\n",
            "  Building wheel for filterpy (setup.py): started\n",
            "  Building wheel for filterpy (setup.py): finished with status 'done'\n",
            "  Created wheel for filterpy: filename=filterpy-1.4.5-py3-none-any.whl size=110458 sha256=47c8e424d7a3d935021455bc05efa3fd68bcded14f515d3584e8e3331c4ee883\n",
            "  Stored in directory: /root/.cache/pip/wheels/fe/f6/cb/40331472edf4fd399b8cad02973c6acbdf26898342928327fe\n",
            "  Building wheel for jsonmerge (setup.py): started\n",
            "  Building wheel for jsonmerge (setup.py): finished with status 'done'\n",
            "  Created wheel for jsonmerge: filename=jsonmerge-1.8.0-py3-none-any.whl size=17987 sha256=a428ddbfdf838a9f7dcd2e489333e113bdc683fd0621fbbd1c40d73f7e83875d\n",
            "  Stored in directory: /root/.cache/pip/wheels/b7/2f/9f/e0ef579cf9c1c669c5f9c18acf76c2b079e9a8ee92c85884e4\n",
            "  Building wheel for python-multipart (setup.py): started\n",
            "  Building wheel for python-multipart (setup.py): finished with status 'done'\n",
            "  Created wheel for python-multipart: filename=python_multipart-0.0.5-py3-none-any.whl size=31671 sha256=e3df16c2990e4dabe0db6ad0fd66d4a8ecea0ea59808f8c80ea1a2d8b6b6fc5b\n",
            "  Stored in directory: /root/.cache/pip/wheels/9e/fc/1c/cf980e6413d3ee8e70cd8f39e2366b0f487e3e221aeb452eb0\n",
            "  Building wheel for promise (setup.py): started\n",
            "  Building wheel for promise (setup.py): finished with status 'done'\n",
            "  Created wheel for promise: filename=promise-2.3-py3-none-any.whl size=21486 sha256=1de1193e5ef9b76f9affb113424b7734012a74010e7ee95242221bbdc3bbbc26\n",
            "  Stored in directory: /root/.cache/pip/wheels/54/aa/01/724885182f93150035a2a91bce34a12877e8067a97baaf5dc8\n",
            "  Building wheel for pathtools (setup.py): started\n",
            "  Building wheel for pathtools (setup.py): finished with status 'done'\n",
            "  Created wheel for pathtools: filename=pathtools-0.1.2-py3-none-any.whl size=8792 sha256=bae4809181bf58e5c738aec0ebf225079d4f19bc3e198e2f1e645d7a467857f2\n",
            "  Stored in directory: /root/.cache/pip/wheels/4c/8e/7e/72fbc243e1aeecae64a96875432e70d4e92f3d2d18123be004\n",
            "Successfully built albumentations pudb antlr4-python3-runtime basicsr test-tube future imgaug urwid validators ffmpy filterpy jsonmerge python-multipart promise pathtools\n",
            "Installing collected packages: urllib3, pyasn1, idna, chardet, zipp, rsa, requests, pyparsing, pyasn1-modules, oauthlib, cachetools, requests-oauthlib, python-dateutil, packaging, MarkupSafe, kiwisolver, importlib-metadata, google-auth, fonttools, cycler, werkzeug, tifffile, tensorboard-plugin-wit, tensorboard-data-server, sniffio, smmap, setuptools, scipy, PyWavelets, protobuf, networkx, multidict, mdurl, matplotlib, markdown, llvmlite, imageio, grpcio, google-auth-oauthlib, frozenlist, absl-py, yarl, yapf, uc-micro-py, tzdata, tb-nightly, scikit-image, rfc3986, pyyaml, pytz, pyrsistent, pkgutil-resolve-name, opencv-python, numba, markdown-it-py, lmdb, importlib-resources, h11, gitdb, future, filterpy, backports.zoneinfo, attrs, async-timeout, anyio, aiosignal, addict, wcwidth, starlette, shortuuid, setproctitle, sentry-sdk, pytz-deprecation-shim, pynacl, pygments, pydantic, psutil, promise, pathtools, pandas, monotonic, mdit-py-plugins, linkify-it-py, jsonschema, Jinja2, httpcore, gitpython, fsspec, filelock, facexlib, entrypoints, docker-pycreds, decorator, commonmark, click, bcrypt, basicsr, backoff, aiohttp, websockets, watchdog, wandb, validators, uvicorn, urwid, tzlocal, tornado, torchmetrics, torchdiffeq, toml, tokenizers, text-unidecode, tensorboard, semver, rich, resize-right, regex, python-multipart, pympler, pydub, pyDeprecate, pydeck, pycryptodome, pyarrow, paramiko, orjson, opencv-python-headless, kornia, jsonmerge, imgaug, huggingface-hub, httpx, GFPGAN, ftfy, ffmpy, fastapi, einops, clean-fid, blinker, antlr4-python3-runtime, analytics-python, altair, accelerate, transformers, torch-fidelity, test-tube, taming-transformers, streamlit, realesrgan, pytorch-lightning, python-slugify, pynvml, pudb, omegaconf, latent-diffusion, k-diffusion, imageio-ffmpeg, gradio, clip, albumentations\n",
            "  Attempting uninstall: urllib3\n",
            "    Found existing installation: urllib3 1.26.8\n",
            "    Uninstalling urllib3-1.26.8:\n",
            "      Successfully uninstalled urllib3-1.26.8\n",
            "  Attempting uninstall: idna\n",
            "    Found existing installation: idna 3.3\n",
            "    Uninstalling idna-3.3:\n",
            "      Successfully uninstalled idna-3.3\n",
            "  Attempting uninstall: requests\n",
            "    Found existing installation: requests 2.27.1\n",
            "    Uninstalling requests-2.27.1:\n",
            "      Successfully uninstalled requests-2.27.1\n",
            "  Attempting uninstall: setuptools\n",
            "    Found existing installation: setuptools 63.4.1\n",
            "    Uninstalling setuptools-63.4.1:\n",
            "      Successfully uninstalled setuptools-63.4.1\n",
            "  Running setup.py develop for GFPGAN\n",
            "  Running setup.py develop for taming-transformers\n",
            "  Running setup.py develop for realesrgan\n",
            "  Running setup.py develop for latent-diffusion\n",
            "  Running setup.py develop for k-diffusion\n",
            "  Running setup.py develop for clip\n",
            "Successfully installed GFPGAN Jinja2-3.1.2 MarkupSafe-2.1.1 PyWavelets-1.3.0 absl-py-1.2.0 accelerate-0.12.0 addict-2.4.0 aiohttp-3.8.1 aiosignal-1.2.0 albumentations-0.4.3 altair-4.2.0 analytics-python-1.4.0 antlr4-python3-runtime-4.8 anyio-3.6.1 async-timeout-4.0.2 attrs-22.1.0 backoff-1.10.0 backports.zoneinfo-0.2.1 basicsr-1.4.2 bcrypt-4.0.0 blinker-1.5 cachetools-5.2.0 chardet-4.0.0 clean-fid-0.1.30 click-8.1.3 clip commonmark-0.9.1 cycler-0.11.0 decorator-5.1.1 docker-pycreds-0.4.0 einops-0.3.0 entrypoints-0.4 facexlib-0.2.5 fastapi-0.82.0 ffmpy-0.3.0 filelock-3.8.0 filterpy-1.4.5 fonttools-4.37.1 frozenlist-1.3.1 fsspec-2022.8.2 ftfy-6.1.1 future-0.18.2 gitdb-4.0.9 gitpython-3.1.27 google-auth-2.11.0 google-auth-oauthlib-0.4.6 gradio-3.1.6 grpcio-1.48.1 h11-0.12.0 httpcore-0.15.0 httpx-0.23.0 huggingface-hub-0.9.1 idna-2.10 imageio-2.9.0 imageio-ffmpeg-0.4.2 imgaug-0.2.6 importlib-metadata-4.12.0 importlib-resources-5.9.0 jsonmerge-1.8.0 jsonschema-4.15.0 k-diffusion kiwisolver-1.4.4 kornia-0.6.0 latent-diffusion linkify-it-py-1.0.3 llvmlite-0.39.1 lmdb-1.3.0 markdown-3.4.1 markdown-it-py-2.1.0 matplotlib-3.5.3 mdit-py-plugins-0.3.0 mdurl-0.1.2 monotonic-1.6 multidict-6.0.2 networkx-2.8.6 numba-0.56.2 oauthlib-3.2.0 omegaconf-2.1.1 opencv-python-4.1.2.30 opencv-python-headless-4.1.2.30 orjson-3.8.0 packaging-21.3 pandas-1.4.4 paramiko-2.11.0 pathtools-0.1.2 pkgutil-resolve-name-1.3.10 promise-2.3 protobuf-3.19.4 psutil-5.9.2 pudb-2019.2 pyDeprecate-0.3.1 pyarrow-9.0.0 pyasn1-0.4.8 pyasn1-modules-0.2.8 pycryptodome-3.15.0 pydantic-1.10.2 pydeck-0.8.0b1 pydub-0.25.1 pygments-2.13.0 pympler-1.0.1 pynacl-1.5.0 pynvml-11.4.1 pyparsing-3.0.9 pyrsistent-0.18.1 python-dateutil-2.8.2 python-multipart-0.0.5 python-slugify-6.1.2 pytorch-lightning-1.4.2 pytz-2022.2.1 pytz-deprecation-shim-0.1.0.post0 pyyaml-6.0 realesrgan regex-2022.8.17 requests-2.25.1 requests-oauthlib-1.3.1 resize-right-0.0.2 rfc3986-1.5.0 rich-12.5.1 rsa-4.9 scikit-image-0.19.3 scipy-1.9.1 semver-2.13.0 sentry-sdk-1.9.8 setproctitle-1.3.2 setuptools-59.8.0 shortuuid-1.0.9 smmap-5.0.0 sniffio-1.3.0 starlette-0.19.1 streamlit-1.12.2 taming-transformers tb-nightly-2.11.0a20220907 tensorboard-2.10.0 tensorboard-data-server-0.6.1 tensorboard-plugin-wit-1.8.1 test-tube-0.7.5 text-unidecode-1.3 tifffile-2022.8.12 tokenizers-0.12.1 toml-0.10.2 torch-fidelity-0.3.0 torchdiffeq-0.2.3 torchmetrics-0.6.0 tornado-6.2 transformers-4.19.2 tzdata-2022.2 tzlocal-4.2 uc-micro-py-1.0.1 urllib3-1.26.12 urwid-2.1.2 uvicorn-0.18.3 validators-0.20.0 wandb-0.13.2 watchdog-2.1.9 wcwidth-0.2.5 websockets-10.3 werkzeug-2.2.2 yapf-0.32.0 yarl-1.8.1 zipp-3.8.1\n",
            "\b\b\\ \n",
            "\b\bdone\n",
            "#\n",
            "# To activate this environment, use\n",
            "#\n",
            "#     $ conda activate base\n",
            "#\n",
            "# To deactivate an active environment, use\n",
            "#\n",
            "#     $ conda deactivate\n",
            "\n"
          ]
        }
      ],
      "source": [
        "%cd /content\n",
        "!conda env update -n base -f stable-diffusion-colab/environment.yaml "
      ]
    },
    {
      "cell_type": "code",
      "execution_count": 5,
      "metadata": {
        "id": "V1BgDAQdL5I9",
        "colab": {
          "base_uri": "https://localhost:8080/"
        },
        "outputId": "0d93b3ae-3930-4e1c-bd23-6cb47283e005"
      },
      "outputs": [
        {
          "output_type": "stream",
          "name": "stdout",
          "text": [
            "/content/stable-diffusion-colab/src/gfpgan\n",
            "Looking in indexes: https://pypi.org/simple, https://us-python.pkg.dev/colab-wheels/public/simple/\n",
            "Requirement already satisfied: basicsr in /usr/local/lib/python3.8/site-packages (1.4.2)\n",
            "Requirement already satisfied: facexlib in /usr/local/lib/python3.8/site-packages (0.2.5)\n",
            "Requirement already satisfied: yapf in /usr/local/lib/python3.8/site-packages (0.32.0)\n",
            "Requirement already satisfied: lmdb in /usr/local/lib/python3.8/site-packages (1.3.0)\n",
            "Requirement already satisfied: opencv-python in /usr/local/lib/python3.8/site-packages (4.1.2.30)\n",
            "Requirement already satisfied: pyyaml in /usr/local/lib/python3.8/site-packages (6.0)\n",
            "Requirement already satisfied: tb-nightly in /usr/local/lib/python3.8/site-packages (2.11.0a20220907)\n",
            "/usr/local/lib/python3.8/site-packages/setuptools/installer.py:27: SetuptoolsDeprecationWarning: setuptools.installer is deprecated. Requirements should be satisfied by a PEP 517 installer.\n",
            "  warnings.warn(\n",
            "running develop\n",
            "/usr/local/lib/python3.8/site-packages/setuptools/command/easy_install.py:156: EasyInstallDeprecationWarning: easy_install command is deprecated. Use build and pip and other standards-based tools.\n",
            "  warnings.warn(\n",
            "/usr/local/lib/python3.8/site-packages/setuptools/command/install.py:34: SetuptoolsDeprecationWarning: setup.py install is deprecated. Use build and pip and other standards-based tools.\n",
            "  warnings.warn(\n",
            "running egg_info\n",
            "writing gfpgan.egg-info/PKG-INFO\n",
            "writing dependency_links to gfpgan.egg-info/dependency_links.txt\n",
            "writing requirements to gfpgan.egg-info/requires.txt\n",
            "writing top-level names to gfpgan.egg-info/top_level.txt\n",
            "reading manifest file 'gfpgan.egg-info/SOURCES.txt'\n",
            "reading manifest template 'MANIFEST.in'\n",
            "warning: no files found matching 'inputs/*'\n",
            "adding license file 'LICENSE'\n",
            "writing manifest file 'gfpgan.egg-info/SOURCES.txt'\n",
            "running build_ext\n",
            "Creating /usr/local/lib/python3.8/site-packages/gfpgan.egg-link (link to .)\n",
            "gfpgan 1.3.5 is already the active version in easy-install.pth\n",
            "\n",
            "Installed /content/stable-diffusion-colab/src/gfpgan\n",
            "Processing dependencies for gfpgan==1.3.5\n",
            "Searching for wheel>=0.26\n",
            "Reading https://pypi.org/simple/wheel/\n",
            "/usr/local/lib/python3.8/site-packages/pkg_resources/__init__.py:116: PkgResourcesDeprecationWarning:  is an invalid version and will not be supported in a future release\n",
            "  warnings.warn(\n",
            "Downloading https://files.pythonhosted.org/packages/27/d6/003e593296a85fd6ed616ed962795b2f87709c3eee2bca4f6d0fe55c6d00/wheel-0.37.1-py2.py3-none-any.whl#sha256=4bdcd7d840138086126cd09254dc6195fb4fc6f01c050a1d7236f2630db1d22a\n",
            "Best match: wheel 0.37.1\n",
            "Processing wheel-0.37.1-py2.py3-none-any.whl\n",
            "Installing wheel-0.37.1-py2.py3-none-any.whl to /usr/local/lib/python3.8/site-packages\n",
            "Adding wheel 0.37.1 to easy-install.pth file\n",
            "Installing wheel script to /usr/local/bin\n",
            "\n",
            "Installed /usr/local/lib/python3.8/site-packages/wheel-0.37.1-py3.8.egg\n",
            "Searching for yapf==0.32.0\n",
            "Best match: yapf 0.32.0\n",
            "Adding yapf 0.32.0 to easy-install.pth file\n",
            "Installing yapf script to /usr/local/bin\n",
            "Installing yapf-diff script to /usr/local/bin\n",
            "\n",
            "Using /usr/local/lib/python3.8/site-packages\n",
            "Searching for tqdm==4.63.0\n",
            "Best match: tqdm 4.63.0\n",
            "Adding tqdm 4.63.0 to easy-install.pth file\n",
            "Installing tqdm script to /usr/local/bin\n",
            "\n",
            "Using /usr/local/lib/python3.8/site-packages\n",
            "Searching for torchvision==0.12.0\n",
            "Best match: torchvision 0.12.0\n",
            "Adding torchvision 0.12.0 to easy-install.pth file\n",
            "\n",
            "Using /usr/local/lib/python3.8/site-packages\n",
            "Searching for torch==1.11.0\n",
            "Best match: torch 1.11.0\n",
            "Adding torch 1.11.0 to easy-install.pth file\n",
            "Installing convert-caffe2-to-onnx script to /usr/local/bin\n",
            "Installing convert-onnx-to-caffe2 script to /usr/local/bin\n",
            "Installing torchrun script to /usr/local/bin\n",
            "\n",
            "Using /usr/local/lib/python3.8/site-packages\n",
            "Searching for tb-nightly==2.11.0a20220907\n",
            "Best match: tb-nightly 2.11.0a20220907\n",
            "Adding tb-nightly 2.11.0a20220907 to easy-install.pth file\n",
            "Installing tensorboard script to /usr/local/bin\n",
            "\n",
            "Using /usr/local/lib/python3.8/site-packages\n",
            "Searching for scipy==1.9.1\n",
            "Best match: scipy 1.9.1\n",
            "Adding scipy 1.9.1 to easy-install.pth file\n",
            "\n",
            "Using /usr/local/lib/python3.8/site-packages\n",
            "Searching for PyYAML==6.0\n",
            "Best match: PyYAML 6.0\n",
            "Adding PyYAML 6.0 to easy-install.pth file\n",
            "\n",
            "Using /usr/local/lib/python3.8/site-packages\n",
            "Searching for opencv-python==4.1.2.30\n",
            "Best match: opencv-python 4.1.2.30\n",
            "Adding opencv-python 4.1.2.30 to easy-install.pth file\n",
            "\n",
            "Using /usr/local/lib/python3.8/site-packages\n",
            "Searching for numpy==1.19.2\n",
            "Best match: numpy 1.19.2\n",
            "Adding numpy 1.19.2 to easy-install.pth file\n",
            "Installing f2py script to /usr/local/bin\n",
            "Installing f2py3 script to /usr/local/bin\n",
            "Installing f2py3.8 script to /usr/local/bin\n",
            "\n",
            "Using /usr/local/lib/python3.8/site-packages\n",
            "Searching for lmdb==1.3.0\n",
            "Best match: lmdb 1.3.0\n",
            "Adding lmdb 1.3.0 to easy-install.pth file\n",
            "\n",
            "Using /usr/local/lib/python3.8/site-packages\n",
            "Searching for facexlib==0.2.5\n",
            "Best match: facexlib 0.2.5\n",
            "Adding facexlib 0.2.5 to easy-install.pth file\n",
            "\n",
            "Using /usr/local/lib/python3.8/site-packages\n",
            "Searching for basicsr==1.4.2\n",
            "Best match: basicsr 1.4.2\n",
            "Adding basicsr 1.4.2 to easy-install.pth file\n",
            "\n",
            "Using /usr/local/lib/python3.8/site-packages\n",
            "Searching for Pillow==9.0.1\n",
            "Best match: Pillow 9.0.1\n",
            "Adding Pillow 9.0.1 to easy-install.pth file\n",
            "\n",
            "Using /usr/local/lib/python3.8/site-packages\n",
            "Searching for requests==2.25.1\n",
            "Best match: requests 2.25.1\n",
            "Adding requests 2.25.1 to easy-install.pth file\n",
            "\n",
            "Using /usr/local/lib/python3.8/site-packages\n",
            "Searching for typing-extensions==4.3.0\n",
            "Best match: typing-extensions 4.3.0\n",
            "Adding typing-extensions 4.3.0 to easy-install.pth file\n",
            "\n",
            "Using /usr/local/lib/python3.8/site-packages\n",
            "Searching for google-auth-oauthlib==0.4.6\n",
            "Best match: google-auth-oauthlib 0.4.6\n",
            "Adding google-auth-oauthlib 0.4.6 to easy-install.pth file\n",
            "Installing google-oauthlib-tool script to /usr/local/bin\n",
            "\n",
            "Using /usr/local/lib/python3.8/site-packages\n",
            "Searching for grpcio==1.48.1\n",
            "Best match: grpcio 1.48.1\n",
            "Adding grpcio 1.48.1 to easy-install.pth file\n",
            "\n",
            "Using /usr/local/lib/python3.8/site-packages\n",
            "Searching for google-auth==2.11.0\n",
            "Best match: google-auth 2.11.0\n",
            "Adding google-auth 2.11.0 to easy-install.pth file\n",
            "\n",
            "Using /usr/local/lib/python3.8/site-packages\n",
            "Searching for absl-py==1.2.0\n",
            "Best match: absl-py 1.2.0\n",
            "Adding absl-py 1.2.0 to easy-install.pth file\n",
            "\n",
            "Using /usr/local/lib/python3.8/site-packages\n",
            "Searching for setuptools==59.8.0\n",
            "Best match: setuptools 59.8.0\n",
            "Adding setuptools 59.8.0 to easy-install.pth file\n",
            "\n",
            "Using /usr/local/lib/python3.8/site-packages\n",
            "Searching for tensorboard-plugin-wit==1.8.1\n",
            "Best match: tensorboard-plugin-wit 1.8.1\n",
            "Adding tensorboard-plugin-wit 1.8.1 to easy-install.pth file\n",
            "\n",
            "Using /usr/local/lib/python3.8/site-packages\n",
            "Searching for Markdown==3.4.1\n",
            "Best match: Markdown 3.4.1\n",
            "Adding Markdown 3.4.1 to easy-install.pth file\n",
            "Installing markdown_py script to /usr/local/bin\n",
            "\n",
            "Using /usr/local/lib/python3.8/site-packages\n",
            "Searching for Werkzeug==2.2.2\n",
            "Best match: Werkzeug 2.2.2\n",
            "Adding Werkzeug 2.2.2 to easy-install.pth file\n",
            "\n",
            "Using /usr/local/lib/python3.8/site-packages\n",
            "Searching for protobuf==3.19.4\n",
            "Best match: protobuf 3.19.4\n",
            "Adding protobuf 3.19.4 to easy-install.pth file\n",
            "\n",
            "Using /usr/local/lib/python3.8/site-packages\n",
            "Searching for tensorboard-data-server==0.6.1\n",
            "Best match: tensorboard-data-server 0.6.1\n",
            "Adding tensorboard-data-server 0.6.1 to easy-install.pth file\n",
            "\n",
            "Using /usr/local/lib/python3.8/site-packages\n",
            "Searching for filterpy==1.4.5\n",
            "Best match: filterpy 1.4.5\n",
            "Adding filterpy 1.4.5 to easy-install.pth file\n",
            "\n",
            "Using /usr/local/lib/python3.8/site-packages\n",
            "Searching for numba==0.56.2\n",
            "Best match: numba 0.56.2\n",
            "Adding numba 0.56.2 to easy-install.pth file\n",
            "\n",
            "Using /usr/local/lib/python3.8/site-packages\n",
            "Searching for addict==2.4.0\n",
            "Best match: addict 2.4.0\n",
            "Adding addict 2.4.0 to easy-install.pth file\n",
            "\n",
            "Using /usr/local/lib/python3.8/site-packages\n",
            "Searching for future==0.18.2\n",
            "Best match: future 0.18.2\n",
            "Adding future 0.18.2 to easy-install.pth file\n",
            "Installing futurize script to /usr/local/bin\n",
            "Installing pasteurize script to /usr/local/bin\n",
            "\n",
            "Using /usr/local/lib/python3.8/site-packages\n",
            "Searching for scikit-image==0.19.3\n",
            "Best match: scikit-image 0.19.3\n",
            "Adding scikit-image 0.19.3 to easy-install.pth file\n",
            "Installing skivi script to /usr/local/bin\n",
            "\n",
            "Using /usr/local/lib/python3.8/site-packages\n",
            "Searching for urllib3==1.26.12\n",
            "Best match: urllib3 1.26.12\n",
            "Adding urllib3 1.26.12 to easy-install.pth file\n",
            "\n",
            "Using /usr/local/lib/python3.8/site-packages\n",
            "Searching for certifi==2022.6.15\n",
            "Best match: certifi 2022.6.15\n",
            "Adding certifi 2022.6.15 to easy-install.pth file\n",
            "\n",
            "Using /usr/local/lib/python3.8/site-packages\n",
            "Searching for idna==2.10\n",
            "Best match: idna 2.10\n",
            "Adding idna 2.10 to easy-install.pth file\n",
            "\n",
            "Using /usr/local/lib/python3.8/site-packages\n",
            "Searching for chardet==4.0.0\n",
            "Best match: chardet 4.0.0\n",
            "Adding chardet 4.0.0 to easy-install.pth file\n",
            "Installing chardetect script to /usr/local/bin\n",
            "\n",
            "Using /usr/local/lib/python3.8/site-packages\n",
            "Searching for requests-oauthlib==1.3.1\n",
            "Best match: requests-oauthlib 1.3.1\n",
            "Adding requests-oauthlib 1.3.1 to easy-install.pth file\n",
            "\n",
            "Using /usr/local/lib/python3.8/site-packages\n",
            "Searching for six==1.16.0\n",
            "Best match: six 1.16.0\n",
            "Adding six 1.16.0 to easy-install.pth file\n",
            "\n",
            "Using /usr/local/lib/python3.8/site-packages\n",
            "Searching for pyasn1-modules==0.2.8\n",
            "Best match: pyasn1-modules 0.2.8\n",
            "Adding pyasn1-modules 0.2.8 to easy-install.pth file\n",
            "\n",
            "Using /usr/local/lib/python3.8/site-packages\n",
            "Searching for cachetools==5.2.0\n",
            "Best match: cachetools 5.2.0\n",
            "Adding cachetools 5.2.0 to easy-install.pth file\n",
            "\n",
            "Using /usr/local/lib/python3.8/site-packages\n",
            "Searching for rsa==4.9\n",
            "Best match: rsa 4.9\n",
            "Adding rsa 4.9 to easy-install.pth file\n",
            "Installing pyrsa-decrypt script to /usr/local/bin\n",
            "Installing pyrsa-encrypt script to /usr/local/bin\n",
            "Installing pyrsa-keygen script to /usr/local/bin\n",
            "Installing pyrsa-priv2pub script to /usr/local/bin\n",
            "Installing pyrsa-sign script to /usr/local/bin\n",
            "Installing pyrsa-verify script to /usr/local/bin\n",
            "\n",
            "Using /usr/local/lib/python3.8/site-packages\n",
            "Searching for importlib-metadata==4.12.0\n",
            "Best match: importlib-metadata 4.12.0\n",
            "Adding importlib-metadata 4.12.0 to easy-install.pth file\n",
            "\n",
            "Using /usr/local/lib/python3.8/site-packages\n",
            "Searching for MarkupSafe==2.1.1\n",
            "Best match: MarkupSafe 2.1.1\n",
            "Adding MarkupSafe 2.1.1 to easy-install.pth file\n",
            "\n",
            "Using /usr/local/lib/python3.8/site-packages\n",
            "Searching for matplotlib==3.5.3\n",
            "Best match: matplotlib 3.5.3\n",
            "Adding matplotlib 3.5.3 to easy-install.pth file\n",
            "\n",
            "Using /usr/local/lib/python3.8/site-packages\n",
            "Searching for llvmlite==0.39.1\n",
            "Best match: llvmlite 0.39.1\n",
            "Adding llvmlite 0.39.1 to easy-install.pth file\n",
            "\n",
            "Using /usr/local/lib/python3.8/site-packages\n",
            "Searching for imageio==2.9.0\n",
            "Best match: imageio 2.9.0\n",
            "Adding imageio 2.9.0 to easy-install.pth file\n",
            "Installing imageio_download_bin script to /usr/local/bin\n",
            "Installing imageio_remove_bin script to /usr/local/bin\n",
            "\n",
            "Using /usr/local/lib/python3.8/site-packages\n",
            "Searching for packaging==21.3\n",
            "Best match: packaging 21.3\n",
            "Adding packaging 21.3 to easy-install.pth file\n",
            "\n",
            "Using /usr/local/lib/python3.8/site-packages\n",
            "Searching for PyWavelets==1.3.0\n",
            "Best match: PyWavelets 1.3.0\n",
            "Adding PyWavelets 1.3.0 to easy-install.pth file\n",
            "\n",
            "Using /usr/local/lib/python3.8/site-packages\n",
            "Searching for tifffile==2022.8.12\n",
            "Best match: tifffile 2022.8.12\n",
            "Adding tifffile 2022.8.12 to easy-install.pth file\n",
            "Installing lsm2bin script to /usr/local/bin\n",
            "Installing tiff2fsspec script to /usr/local/bin\n",
            "Installing tiffcomment script to /usr/local/bin\n",
            "Installing tifffile script to /usr/local/bin\n",
            "\n",
            "Using /usr/local/lib/python3.8/site-packages\n",
            "Searching for networkx==2.8.6\n",
            "Best match: networkx 2.8.6\n",
            "Adding networkx 2.8.6 to easy-install.pth file\n",
            "\n",
            "Using /usr/local/lib/python3.8/site-packages\n",
            "Searching for oauthlib==3.2.0\n",
            "Best match: oauthlib 3.2.0\n",
            "Adding oauthlib 3.2.0 to easy-install.pth file\n",
            "\n",
            "Using /usr/local/lib/python3.8/site-packages\n",
            "Searching for pyasn1==0.4.8\n",
            "Best match: pyasn1 0.4.8\n",
            "Adding pyasn1 0.4.8 to easy-install.pth file\n",
            "\n",
            "Using /usr/local/lib/python3.8/site-packages\n",
            "Searching for zipp==3.8.1\n",
            "Best match: zipp 3.8.1\n",
            "Adding zipp 3.8.1 to easy-install.pth file\n",
            "\n",
            "Using /usr/local/lib/python3.8/site-packages\n",
            "Searching for fonttools==4.37.1\n",
            "Best match: fonttools 4.37.1\n",
            "Adding fonttools 4.37.1 to easy-install.pth file\n",
            "Installing fonttools script to /usr/local/bin\n",
            "Installing pyftmerge script to /usr/local/bin\n",
            "Installing pyftsubset script to /usr/local/bin\n",
            "Installing ttx script to /usr/local/bin\n",
            "\n",
            "Using /usr/local/lib/python3.8/site-packages\n",
            "Searching for python-dateutil==2.8.2\n",
            "Best match: python-dateutil 2.8.2\n",
            "Adding python-dateutil 2.8.2 to easy-install.pth file\n",
            "\n",
            "Using /usr/local/lib/python3.8/site-packages\n",
            "Searching for pyparsing==3.0.9\n",
            "Best match: pyparsing 3.0.9\n",
            "Adding pyparsing 3.0.9 to easy-install.pth file\n",
            "\n",
            "Using /usr/local/lib/python3.8/site-packages\n",
            "Searching for cycler==0.11.0\n",
            "Best match: cycler 0.11.0\n",
            "Adding cycler 0.11.0 to easy-install.pth file\n",
            "\n",
            "Using /usr/local/lib/python3.8/site-packages\n",
            "Searching for kiwisolver==1.4.4\n",
            "Best match: kiwisolver 1.4.4\n",
            "Adding kiwisolver 1.4.4 to easy-install.pth file\n",
            "\n",
            "Using /usr/local/lib/python3.8/site-packages\n",
            "Finished processing dependencies for gfpgan==1.3.5\n",
            "Looking in indexes: https://pypi.org/simple, https://us-python.pkg.dev/colab-wheels/public/simple/\n",
            "Requirement already satisfied: realesrgan in /content/stable-diffusion-colab/src/realesrgan (0.2.5.0)\n",
            "Requirement already satisfied: basicsr>=1.4.2 in /usr/local/lib/python3.8/site-packages (from realesrgan) (1.4.2)\n",
            "Requirement already satisfied: facexlib>=0.2.5 in /usr/local/lib/python3.8/site-packages (from realesrgan) (0.2.5)\n",
            "Requirement already satisfied: gfpgan>=1.3.5 in /content/stable-diffusion-colab/src/gfpgan (from realesrgan) (1.3.5)\n",
            "Requirement already satisfied: numpy in /usr/local/lib/python3.8/site-packages (from realesrgan) (1.19.2)\n",
            "Requirement already satisfied: opencv-python in /usr/local/lib/python3.8/site-packages (from realesrgan) (4.1.2.30)\n",
            "Requirement already satisfied: Pillow in /usr/local/lib/python3.8/site-packages (from realesrgan) (9.0.1)\n",
            "Requirement already satisfied: torch>=1.7 in /usr/local/lib/python3.8/site-packages (from realesrgan) (1.11.0)\n",
            "Requirement already satisfied: torchvision in /usr/local/lib/python3.8/site-packages (from realesrgan) (0.12.0)\n",
            "Requirement already satisfied: tqdm in /usr/local/lib/python3.8/site-packages (from realesrgan) (4.63.0)\n",
            "Requirement already satisfied: pyyaml in /usr/local/lib/python3.8/site-packages (from basicsr>=1.4.2->realesrgan) (6.0)\n",
            "Requirement already satisfied: scikit-image in /usr/local/lib/python3.8/site-packages (from basicsr>=1.4.2->realesrgan) (0.19.3)\n",
            "Requirement already satisfied: yapf in /usr/local/lib/python3.8/site-packages (from basicsr>=1.4.2->realesrgan) (0.32.0)\n",
            "Requirement already satisfied: lmdb in /usr/local/lib/python3.8/site-packages (from basicsr>=1.4.2->realesrgan) (1.3.0)\n",
            "Requirement already satisfied: tb-nightly in /usr/local/lib/python3.8/site-packages (from basicsr>=1.4.2->realesrgan) (2.11.0a20220907)\n",
            "Requirement already satisfied: requests in /usr/local/lib/python3.8/site-packages (from basicsr>=1.4.2->realesrgan) (2.25.1)\n",
            "Requirement already satisfied: scipy in /usr/local/lib/python3.8/site-packages (from basicsr>=1.4.2->realesrgan) (1.9.1)\n",
            "Requirement already satisfied: addict in /usr/local/lib/python3.8/site-packages (from basicsr>=1.4.2->realesrgan) (2.4.0)\n",
            "Requirement already satisfied: future in /usr/local/lib/python3.8/site-packages (from basicsr>=1.4.2->realesrgan) (0.18.2)\n",
            "Requirement already satisfied: filterpy in /usr/local/lib/python3.8/site-packages (from facexlib>=0.2.5->realesrgan) (1.4.5)\n",
            "Requirement already satisfied: numba in /usr/local/lib/python3.8/site-packages (from facexlib>=0.2.5->realesrgan) (0.56.2)\n",
            "Requirement already satisfied: typing_extensions in /usr/local/lib/python3.8/site-packages (from torch>=1.7->realesrgan) (4.3.0)\n",
            "Requirement already satisfied: matplotlib in /usr/local/lib/python3.8/site-packages (from filterpy->facexlib>=0.2.5->realesrgan) (3.5.3)\n",
            "Requirement already satisfied: cycler>=0.10 in /usr/local/lib/python3.8/site-packages (from matplotlib->filterpy->facexlib>=0.2.5->realesrgan) (0.11.0)\n",
            "Requirement already satisfied: pyparsing>=2.2.1 in /usr/local/lib/python3.8/site-packages (from matplotlib->filterpy->facexlib>=0.2.5->realesrgan) (3.0.9)\n",
            "Requirement already satisfied: fonttools>=4.22.0 in /usr/local/lib/python3.8/site-packages (from matplotlib->filterpy->facexlib>=0.2.5->realesrgan) (4.37.1)\n",
            "Requirement already satisfied: python-dateutil>=2.7 in /usr/local/lib/python3.8/site-packages (from matplotlib->filterpy->facexlib>=0.2.5->realesrgan) (2.8.2)\n",
            "Requirement already satisfied: packaging>=20.0 in /usr/local/lib/python3.8/site-packages (from matplotlib->filterpy->facexlib>=0.2.5->realesrgan) (21.3)\n",
            "Requirement already satisfied: kiwisolver>=1.0.1 in /usr/local/lib/python3.8/site-packages (from matplotlib->filterpy->facexlib>=0.2.5->realesrgan) (1.4.4)\n",
            "Requirement already satisfied: six>=1.5 in /usr/local/lib/python3.8/site-packages (from python-dateutil>=2.7->matplotlib->filterpy->facexlib>=0.2.5->realesrgan) (1.16.0)\n",
            "Requirement already satisfied: llvmlite<0.40,>=0.39.0dev0 in /usr/local/lib/python3.8/site-packages (from numba->facexlib>=0.2.5->realesrgan) (0.39.1)\n",
            "Requirement already satisfied: importlib-metadata in /usr/local/lib/python3.8/site-packages (from numba->facexlib>=0.2.5->realesrgan) (4.12.0)\n",
            "Requirement already satisfied: setuptools<60 in /usr/local/lib/python3.8/site-packages (from numba->facexlib>=0.2.5->realesrgan) (59.8.0)\n",
            "Requirement already satisfied: zipp>=0.5 in /usr/local/lib/python3.8/site-packages (from importlib-metadata->numba->facexlib>=0.2.5->realesrgan) (3.8.1)\n",
            "Requirement already satisfied: chardet<5,>=3.0.2 in /usr/local/lib/python3.8/site-packages (from requests->basicsr>=1.4.2->realesrgan) (4.0.0)\n",
            "Requirement already satisfied: urllib3<1.27,>=1.21.1 in /usr/local/lib/python3.8/site-packages (from requests->basicsr>=1.4.2->realesrgan) (1.26.12)\n",
            "Requirement already satisfied: idna<3,>=2.5 in /usr/local/lib/python3.8/site-packages (from requests->basicsr>=1.4.2->realesrgan) (2.10)\n",
            "Requirement already satisfied: certifi>=2017.4.17 in /usr/local/lib/python3.8/site-packages (from requests->basicsr>=1.4.2->realesrgan) (2022.6.15)\n",
            "Requirement already satisfied: tifffile>=2019.7.26 in /usr/local/lib/python3.8/site-packages (from scikit-image->basicsr>=1.4.2->realesrgan) (2022.8.12)\n",
            "Requirement already satisfied: PyWavelets>=1.1.1 in /usr/local/lib/python3.8/site-packages (from scikit-image->basicsr>=1.4.2->realesrgan) (1.3.0)\n",
            "Requirement already satisfied: imageio>=2.4.1 in /usr/local/lib/python3.8/site-packages (from scikit-image->basicsr>=1.4.2->realesrgan) (2.9.0)\n",
            "Requirement already satisfied: networkx>=2.2 in /usr/local/lib/python3.8/site-packages (from scikit-image->basicsr>=1.4.2->realesrgan) (2.8.6)\n",
            "Requirement already satisfied: tensorboard-data-server<0.7.0,>=0.6.0 in /usr/local/lib/python3.8/site-packages (from tb-nightly->basicsr>=1.4.2->realesrgan) (0.6.1)\n",
            "Requirement already satisfied: tensorboard-plugin-wit>=1.6.0 in /usr/local/lib/python3.8/site-packages (from tb-nightly->basicsr>=1.4.2->realesrgan) (1.8.1)\n",
            "Requirement already satisfied: absl-py>=0.4 in /usr/local/lib/python3.8/site-packages (from tb-nightly->basicsr>=1.4.2->realesrgan) (1.2.0)\n",
            "Requirement already satisfied: google-auth<3,>=1.6.3 in /usr/local/lib/python3.8/site-packages (from tb-nightly->basicsr>=1.4.2->realesrgan) (2.11.0)\n",
            "Requirement already satisfied: werkzeug>=1.0.1 in /usr/local/lib/python3.8/site-packages (from tb-nightly->basicsr>=1.4.2->realesrgan) (2.2.2)\n",
            "Requirement already satisfied: wheel>=0.26 in /usr/local/lib/python3.8/site-packages (from tb-nightly->basicsr>=1.4.2->realesrgan) (0.37.1)\n",
            "Requirement already satisfied: grpcio>=1.24.3 in /usr/local/lib/python3.8/site-packages (from tb-nightly->basicsr>=1.4.2->realesrgan) (1.48.1)\n",
            "Requirement already satisfied: google-auth-oauthlib<0.5,>=0.4.1 in /usr/local/lib/python3.8/site-packages (from tb-nightly->basicsr>=1.4.2->realesrgan) (0.4.6)\n",
            "Requirement already satisfied: markdown>=2.6.8 in /usr/local/lib/python3.8/site-packages (from tb-nightly->basicsr>=1.4.2->realesrgan) (3.4.1)\n",
            "Requirement already satisfied: protobuf<3.20,>=3.9.2 in /usr/local/lib/python3.8/site-packages (from tb-nightly->basicsr>=1.4.2->realesrgan) (3.19.4)\n",
            "Requirement already satisfied: pyasn1-modules>=0.2.1 in /usr/local/lib/python3.8/site-packages (from google-auth<3,>=1.6.3->tb-nightly->basicsr>=1.4.2->realesrgan) (0.2.8)\n",
            "Requirement already satisfied: cachetools<6.0,>=2.0.0 in /usr/local/lib/python3.8/site-packages (from google-auth<3,>=1.6.3->tb-nightly->basicsr>=1.4.2->realesrgan) (5.2.0)\n",
            "Requirement already satisfied: rsa<5,>=3.1.4 in /usr/local/lib/python3.8/site-packages (from google-auth<3,>=1.6.3->tb-nightly->basicsr>=1.4.2->realesrgan) (4.9)\n",
            "Requirement already satisfied: requests-oauthlib>=0.7.0 in /usr/local/lib/python3.8/site-packages (from google-auth-oauthlib<0.5,>=0.4.1->tb-nightly->basicsr>=1.4.2->realesrgan) (1.3.1)\n",
            "Requirement already satisfied: pyasn1<0.5.0,>=0.4.6 in /usr/local/lib/python3.8/site-packages (from pyasn1-modules>=0.2.1->google-auth<3,>=1.6.3->tb-nightly->basicsr>=1.4.2->realesrgan) (0.4.8)\n",
            "Requirement already satisfied: oauthlib>=3.0.0 in /usr/local/lib/python3.8/site-packages (from requests-oauthlib>=0.7.0->google-auth-oauthlib<0.5,>=0.4.1->tb-nightly->basicsr>=1.4.2->realesrgan) (3.2.0)\n",
            "Requirement already satisfied: MarkupSafe>=2.1.1 in /usr/local/lib/python3.8/site-packages (from werkzeug>=1.0.1->tb-nightly->basicsr>=1.4.2->realesrgan) (2.1.1)\n"
          ]
        }
      ],
      "source": [
        "%cd /content/stable-diffusion-colab/src/gfpgan/\n",
        "!pip install basicsr facexlib yapf lmdb opencv-python pyyaml tb-nightly --no-deps\n",
        "!python setup.py develop\n",
        "!pip install realesrgan"
      ]
    },
    {
      "cell_type": "code",
      "source": [
        "!if [ ! -f experiments/pretrained_models/GFPGANv1.3.pth ] ; then wget https://github.com/TencentARC/GFPGAN/releases/download/v1.3.0/GFPGANv1.3.pth -P experiments/pretrained_models ; else echo \"GFPGANv1.3.pth already exists, will not download.\" ; fi"
      ],
      "metadata": {
        "colab": {
          "base_uri": "https://localhost:8080/"
        },
        "id": "GKgyg7VsujQ4",
        "outputId": "c8b92281-7341-49bc-c281-90eeba268740"
      },
      "execution_count": 8,
      "outputs": [
        {
          "output_type": "stream",
          "name": "stdout",
          "text": [
            "GFPGANv1.3.pth already exists, will not download.\n"
          ]
        }
      ]
    },
    {
      "cell_type": "code",
      "execution_count": 15,
      "metadata": {
        "id": "DduFM8vs6ell",
        "colab": {
          "base_uri": "https://localhost:8080/"
        },
        "outputId": "c94c6e04-d4d3-4d4d-ee0f-8a6e60a0f95e"
      },
      "outputs": [
        {
          "output_type": "stream",
          "name": "stdout",
          "text": [
            "/content/stable-diffusion-colab/src/realesrgan\n",
            "RealESRGAN_x4plus.pth already exists, will not download.\n",
            "RealESRGAN_x4plus_anime_6B.pth already exists, will not download.\n"
          ]
        }
      ],
      "source": [
        "%cd /content/stable-diffusion-colab/src/realesrgan/\n",
        "!if [ ! -f experiments/pretrained_models/RealESRGAN_x4plus.pth ] ; then wget https://github.com/xinntao/Real-ESRGAN/releases/download/v0.1.0/RealESRGAN_x4plus.pth -P experiments/pretrained_models ; else echo \"RealESRGAN_x4plus.pth already exists, will not download.\" ; fi\n",
        "!if [ ! -f experiments/pretrained_models/RealESRGAN_x4plus_anime_6B.pth ] ; then wget https://github.com/xinntao/Real-ESRGAN/releases/download/v0.2.2.4/RealESRGAN_x4plus_anime_6B.pth -P experiments/pretrained_models ; else echo \"RealESRGAN_x4plus_anime_6B.pth already exists, will not download.\" ; fi"
      ]
    },
    {
      "cell_type": "code",
      "execution_count": 10,
      "metadata": {
        "id": "Im0L0l22IBOr",
        "colab": {
          "base_uri": "https://localhost:8080/"
        },
        "outputId": "8845e6a3-774a-4cbe-afe7-9461c67c682c"
      },
      "outputs": [
        {
          "output_type": "stream",
          "name": "stdout",
          "text": [
            "--2022-09-07 16:21:37--  https://github.com/matomo-org/travis-scripts/blob/master/fonts/Arial.ttf?raw=true\n",
            "Resolving github.com (github.com)... 20.205.243.166\n",
            "Connecting to github.com (github.com)|20.205.243.166|:443... connected.\n",
            "HTTP request sent, awaiting response... 302 Found\n",
            "Location: https://github.com/matomo-org/travis-scripts/raw/master/fonts/Arial.ttf [following]\n",
            "--2022-09-07 16:21:37--  https://github.com/matomo-org/travis-scripts/raw/master/fonts/Arial.ttf\n",
            "Reusing existing connection to github.com:443.\n",
            "HTTP request sent, awaiting response... 302 Found\n",
            "Location: https://raw.githubusercontent.com/matomo-org/travis-scripts/master/fonts/Arial.ttf [following]\n",
            "--2022-09-07 16:21:37--  https://raw.githubusercontent.com/matomo-org/travis-scripts/master/fonts/Arial.ttf\n",
            "Resolving raw.githubusercontent.com (raw.githubusercontent.com)... 185.199.108.133, 185.199.109.133, 185.199.110.133, ...\n",
            "Connecting to raw.githubusercontent.com (raw.githubusercontent.com)|185.199.108.133|:443... connected.\n",
            "HTTP request sent, awaiting response... 200 OK\n",
            "Length: 275572 (269K) [application/octet-stream]\n",
            "Saving to: ‘/content/stable-diffusion-colab/arial.ttf’\n",
            "\n",
            "\r          /content/   0%[                    ]       0  --.-KB/s               \r/content/stable-dif 100%[===================>] 269.11K  --.-KB/s    in 0.003s  \n",
            "\n",
            "2022-09-07 16:21:37 (92.2 MB/s) - ‘/content/stable-diffusion-colab/arial.ttf’ saved [275572/275572]\n",
            "\n"
          ]
        }
      ],
      "source": [
        "!wget https://github.com/matomo-org/travis-scripts/blob/master/fonts/Arial.ttf?raw=true -O /content/stable-diffusion-colab/arial.ttf"
      ]
    },
    {
      "cell_type": "markdown",
      "metadata": {
        "id": "TNNqgb-jdWyc"
      },
      "source": [
        "## Connect google drive and transfer model or download it\n",
        "Choose only 1 option"
      ]
    },
    {
      "cell_type": "markdown",
      "metadata": {
        "id": "UNd1l-nBarTq"
      },
      "source": [
        "### Gdrive \n",
        "**The weights must be in the google drive root folder**"
      ]
    },
    {
      "cell_type": "markdown",
      "metadata": {
        "id": "3VV5FrdAfDGK"
      },
      "source": [
        "You can create a shortcut to your google drive in main folder\n",
        "https://drive.google.com/file/d/1wHFgl0ivCmIZv88hVZXkb8oy9qCuaBGA/view?usp=sharing"
      ]
    },
    {
      "cell_type": "code",
      "execution_count": null,
      "metadata": {
        "colab": {
          "base_uri": "https://localhost:8080/"
        },
        "id": "A9GuAOFfVTWs",
        "outputId": "8c822dbe-4779-4e51-9e03-ee1199d0aa95"
      },
      "outputs": [
        {
          "output_type": "stream",
          "name": "stdout",
          "text": [
            "Mounted at /gdrive\n"
          ]
        }
      ],
      "source": [
        "from google.colab import drive\n",
        "drive.mount('/gdrive')"
      ]
    },
    {
      "cell_type": "code",
      "execution_count": null,
      "metadata": {
        "colab": {
          "base_uri": "https://localhost:8080/"
        },
        "id": "wabjW70cQAa9",
        "outputId": "bb3575be-e169-4df2-b318-beb8bea4489f"
      },
      "outputs": [
        {
          "output_type": "stream",
          "name": "stdout",
          "text": [
            "/content/stable-diffusion-colab\n"
          ]
        }
      ],
      "source": [
        "%cd /content/stable-diffusion-colab\n",
        "!cp '/gdrive/My Drive/model.ckpt' models/ldm/stable-diffusion-v1/model.ckpt"
      ]
    },
    {
      "cell_type": "markdown",
      "metadata": {
        "id": "c1rYyseSa5gx"
      },
      "source": [
        "### Download model ( Long wait )\n",
        "The long way, you need to download the model from the server"
      ]
    },
    {
      "cell_type": "code",
      "execution_count": 18,
      "metadata": {
        "id": "SfUhcMd0a1MN",
        "colab": {
          "base_uri": "https://localhost:8080/"
        },
        "outputId": "06fb6e4c-19a2-449f-bcb2-b7a576bbcefc"
      },
      "outputs": [
        {
          "output_type": "stream",
          "name": "stdout",
          "text": [
            "/content/stable-diffusion-colab\n",
            "-rw-r--r-- 1 root root 4265380512 Aug 20 08:44 /content/stable-diffusion-colab/models/ldm/stable-diffusion-v1/model.ckpt\n",
            "model.ckpt already exists, will not download.\n"
          ]
        }
      ],
      "source": [
        "%cd /content/stable-diffusion-colab/\n",
        "!ls -la /content/stable-diffusion-colab/models/ldm/stable-diffusion-v1/model.ckpt\n",
        "!if [ ! -f /content/stable-diffusion-colab/models/ldm/stable-diffusion-v1/model.ckpt ] ; then wget \"https://drive.yerf.org/wl/?id=EBfTrmcCCUAGaQBXVIj5lJmEhjoP1tgl&mode=grid&download=1\" -O /content/stable-diffusion-colab/models/ldm/stable-diffusion-v1/model.ckpt ; else echo \"model.ckpt already exists, will not download.\" ; fi\n",
        "# !wget \"https://drive.yerf.org/wl/?id=EBfTrmcCCUAGaQBXVIj5lJmEhjoP1tgl&mode=grid&download=1\" -O /content/stable-diffusion-colab/models/ldm/stable-diffusion-v1/model.ckpt"
      ]
    },
    {
      "cell_type": "markdown",
      "source": [
        "(Optional) Check to see if all packages have been correctly installed (should see a long list including gradio / torch etc)"
      ],
      "metadata": {
        "id": "Bs_OnOMC72dc"
      }
    },
    {
      "cell_type": "code",
      "source": [
        "!pip freeze"
      ],
      "metadata": {
        "id": "0xqWWAAJqLuU"
      },
      "execution_count": null,
      "outputs": []
    },
    {
      "cell_type": "markdown",
      "metadata": {
        "id": "sQ5mwd2PdgQL"
      },
      "source": [
        "# Launch Webui"
      ]
    },
    {
      "cell_type": "markdown",
      "source": [
        "## LocalTunnel\n",
        "### Install tunnel to colab localhost\n",
        "To avoid the image output bug you can use the localtunnel\n"
      ],
      "metadata": {
        "id": "MZCzpZ1swoIY"
      }
    },
    {
      "cell_type": "code",
      "source": [
        "%cd /content/stable-diffusion-colab\n",
        "!npm install -g localtunnel\n",
        "!nohup lt -p 7860 > lt.log 2>&1 &"
      ],
      "metadata": {
        "id": "ju_ITxku15oe",
        "colab": {
          "base_uri": "https://localhost:8080/"
        },
        "outputId": "7cd9cef9-ec6d-49e5-b222-9dc8a4e78c45"
      },
      "execution_count": 3,
      "outputs": [
        {
          "output_type": "stream",
          "name": "stdout",
          "text": [
            "[Errno 2] No such file or directory: '/content/stable-diffusion-colab'\n",
            "/content\n",
            "\u001b[K\u001b[?25h/tools/node/bin/lt -> /tools/node/lib/node_modules/localtunnel/bin/lt.js\n",
            "+ localtunnel@2.0.2\n",
            "added 22 packages from 22 contributors in 1.749s\n"
          ]
        }
      ]
    },
    {
      "cell_type": "code",
      "source": [
        "with open('/content/stable-diffusion-colab/lt.log', 'r') as testwritefile:\n",
        "    print(testwritefile.read())"
      ],
      "metadata": {
        "id": "rQsiJjbjE6A9",
        "colab": {
          "base_uri": "https://localhost:8080/",
          "height": 191
        },
        "outputId": "51c8e6ee-2838-4f7e-d9f5-a3b31894e1d7"
      },
      "execution_count": 2,
      "outputs": [
        {
          "output_type": "error",
          "ename": "FileNotFoundError",
          "evalue": "ignored",
          "traceback": [
            "\u001b[0;31m---------------------------------------------------------------------------\u001b[0m",
            "\u001b[0;31mFileNotFoundError\u001b[0m                         Traceback (most recent call last)",
            "\u001b[0;32m<ipython-input-2-a350be20f62a>\u001b[0m in \u001b[0;36m<module>\u001b[0;34m\u001b[0m\n\u001b[0;32m----> 1\u001b[0;31m \u001b[0;32mwith\u001b[0m \u001b[0mopen\u001b[0m\u001b[0;34m(\u001b[0m\u001b[0;34m'/content/stable-diffusion-colab/lt.log'\u001b[0m\u001b[0;34m,\u001b[0m \u001b[0;34m'r'\u001b[0m\u001b[0;34m)\u001b[0m \u001b[0;32mas\u001b[0m \u001b[0mtestwritefile\u001b[0m\u001b[0;34m:\u001b[0m\u001b[0;34m\u001b[0m\u001b[0;34m\u001b[0m\u001b[0m\n\u001b[0m\u001b[1;32m      2\u001b[0m     \u001b[0mprint\u001b[0m\u001b[0;34m(\u001b[0m\u001b[0mtestwritefile\u001b[0m\u001b[0;34m.\u001b[0m\u001b[0mread\u001b[0m\u001b[0;34m(\u001b[0m\u001b[0;34m)\u001b[0m\u001b[0;34m)\u001b[0m\u001b[0;34m\u001b[0m\u001b[0;34m\u001b[0m\u001b[0m\n",
            "\u001b[0;31mFileNotFoundError\u001b[0m: [Errno 2] No such file or directory: '/content/stable-diffusion-colab/lt.log'"
          ]
        }
      ]
    },
    {
      "cell_type": "markdown",
      "source": [
        "After you get the link localtunnel , run the next block and wait until it loads, then follow the link localtunnel"
      ],
      "metadata": {
        "id": "GhCwgvdTFiuz"
      }
    },
    {
      "cell_type": "code",
      "source": [
        "%cd /content/stable-diffusion-colab/ \n",
        "!python3 scripts/webui.py"
      ],
      "metadata": {
        "id": "q7HY6oWODtjn",
        "colab": {
          "base_uri": "https://localhost:8080/"
        },
        "outputId": "3c8612c0-b1ae-426e-873a-8d724f8d1cc5"
      },
      "execution_count": null,
      "outputs": [
        {
          "output_type": "stream",
          "name": "stdout",
          "text": [
            "/content/stable-diffusion-colab\n",
            "Found GFPGAN\n",
            "Found RealESRGAN\n",
            "LDSR not found at path, please make sure you have cloned the LDSR repo to ./src/latent-diffusion/\n",
            "Loading model from models/ldm/stable-diffusion-v1/model.ckpt\n",
            "Global Step: 470000\n",
            "LatentDiffusion: Running in eps-prediction mode\n",
            "DiffusionWrapper has 859.52 M params.\n",
            "making attention of type 'vanilla' with 512 in_channels\n",
            "Working with z of shape (1, 4, 32, 32) = 4096 dimensions.\n",
            "making attention of type 'vanilla' with 512 in_channels\n",
            "/usr/local/lib/python3.8/site-packages/gradio/deprecation.py:43: UserWarning: You have unused kwarg parameters in File, please remove them: {'source': 'upload'}\n",
            "  warnings.warn(\n",
            "Running on local URL:  http://localhost:7860/\n",
            "\n",
            "To create a public link, set `share=True` in `launch()`.\n",
            "[MemMon] Recording max memory usage...\n",
            "\n",
            "Iteration: 1/1\n",
            "100% 50/50 [00:14<00:00,  3.50it/s]\n",
            "[MemMon] Stopped recording.\n",
            "\n",
            "Iteration: 1/1\n",
            "[MemMon] Recording max memory usage...\n",
            "\n",
            "100% 50/50 [00:13<00:00,  3.62it/s]\n",
            "[MemMon] Stopped recording.\n",
            "\n",
            "[MemMon] Recording max memory usage...\n",
            "\n",
            "Iteration: 1/1\n",
            "100% 50/50 [00:13<00:00,  3.60it/s]\n",
            "[MemMon] Stopped recording.\n",
            "\n",
            "Iteration: 1/1\n",
            "[MemMon] Recording max memory usage...\n",
            "\n",
            "100% 50/50 [00:14<00:00,  3.56it/s]\n",
            "[MemMon] Stopped recording.\n",
            "\n",
            "[MemMon] Recording max memory usage...\n",
            "\n",
            "Iteration: 1/1\n",
            "100% 50/50 [00:14<00:00,  3.55it/s]\n",
            "[MemMon] Stopped recording.\n",
            "\n",
            "[MemMon] Recording max memory usage...\n",
            "\n",
            "Iteration: 1/1\n",
            "100% 50/50 [00:14<00:00,  3.51it/s]\n",
            "[MemMon] Stopped recording.\n",
            "\n",
            "Iteration: 1/1\n",
            "[MemMon] Recording max memory usage...\n",
            "\n",
            "100% 50/50 [00:14<00:00,  3.51it/s]\n",
            "[MemMon] Stopped recording.\n",
            "\n",
            "Iteration: 1/1\n",
            "[MemMon] Recording max memory usage...\n",
            "\n",
            "100% 50/50 [00:14<00:00,  3.50it/s]\n",
            "[MemMon] Stopped recording.\n",
            "\n",
            "Iteration: 1/1\n",
            "[MemMon] Recording max memory usage...\n",
            "\n",
            "100% 50/50 [00:14<00:00,  3.47it/s]\n",
            "[MemMon] Stopped recording.\n",
            "\n",
            "Iteration: 1/1\n",
            "[MemMon] Recording max memory usage...\n",
            "\n",
            "100% 50/50 [00:14<00:00,  3.45it/s]\n",
            "[MemMon] Stopped recording.\n",
            "\n"
          ]
        }
      ]
    },
    {
      "cell_type": "markdown",
      "source": [
        "If you want to restart the server, run the code"
      ],
      "metadata": {
        "id": "SMGmGqdbBSP0"
      }
    },
    {
      "cell_type": "code",
      "source": [
        "import os\n",
        "os.kill(os.getpid(), 9)"
      ],
      "metadata": {
        "id": "oC__4IghBYPj"
      },
      "execution_count": null,
      "outputs": []
    },
    {
      "cell_type": "markdown",
      "source": [
        "## Gradio host \n",
        "(note: this suffers from refresh problem so using localTunnel above)"
      ],
      "metadata": {
        "id": "UdmScuYwIb5z"
      }
    },
    {
      "cell_type": "code",
      "execution_count": null,
      "metadata": {
        "id": "b9pipr2V-E2y"
      },
      "outputs": [],
      "source": [
        "%cd /content/stable-diffusion-colab/ \n",
        "!python3 scripts/webui.py --share"
      ]
    },
    {
      "cell_type": "markdown",
      "metadata": {
        "id": "LDWfODFA1BKG"
      },
      "source": [
        "\n",
        "# EXTRA"
      ]
    },
    {
      "cell_type": "markdown",
      "source": [
        "## Load all upscale models ( load takes 2-3 minutes )"
      ],
      "metadata": {
        "id": "E8nDWRx6flV6"
      }
    },
    {
      "cell_type": "code",
      "source": [
        "%cd /content/stable-diffusion-colab/src\n",
        "!git clone https://github.com/devilismyfriend/latent-diffusion\n",
        "%cd /content/stable-diffusion-colab/src/latent-diffusion\n",
        "!mkdir experiments\n",
        "%cd experiments/\n",
        "!mkdir pretrained_models\n",
        "!wget \"https://heibox.uni-heidelberg.de/f/31a76b13ea27482981b4/?dl=1\" -o /content/stable-diffusion-colab/src/latent-diffusion/experiments/pretrained_models/project.yaml\n",
        "!wget \"https://heibox.uni-heidelberg.de/f/578df07c8fc04ffbadf3/?dl=1\" -o /content/stable-diffusion-colab/src/latent-diffusion/experiments/pretrained_models/model.ckpt"
      ],
      "metadata": {
        "id": "Im6I20AnYOTS",
        "colab": {
          "base_uri": "https://localhost:8080/"
        },
        "outputId": "2cbda6dc-7088-47bc-b845-dc7112c8d4fb"
      },
      "execution_count": null,
      "outputs": [
        {
          "output_type": "stream",
          "name": "stdout",
          "text": [
            "/content/stable-diffusion-colab/src\n",
            "Cloning into 'latent-diffusion'...\n",
            "remote: Enumerating objects: 323, done.\u001b[K\n",
            "remote: Counting objects: 100% (28/28), done.\u001b[K\n",
            "remote: Compressing objects: 100% (22/22), done.\u001b[K\n",
            "remote: Total 323 (delta 13), reused 17 (delta 6), pack-reused 295\u001b[K\n",
            "Receiving objects: 100% (323/323), 28.42 MiB | 48.58 MiB/s, done.\n",
            "Resolving deltas: 100% (119/119), done.\n",
            "/content/stable-diffusion-colab/src/latent-diffusion\n",
            "/content/stable-diffusion-colab/src/latent-diffusion/experiments\n"
          ]
        }
      ]
    },
    {
      "cell_type": "markdown",
      "metadata": {
        "id": "wxkN1duj1NS9"
      },
      "source": [
        "\n",
        "## Get Dev version webui\n"
      ]
    },
    {
      "cell_type": "code",
      "execution_count": null,
      "metadata": {
        "id": "UwEeExjr1Eni"
      },
      "outputs": [],
      "source": [
        "!wget https://raw.githubusercontent.com/hlky/stable-diffusion-webui/b2dc4539d4171ab4fc78471a5bb9425d6a5d5445/webui.py -O /content/stable-diffusion-colab/scripts/webui.py"
      ]
    },
    {
      "cell_type": "markdown",
      "metadata": {
        "id": "a4_Gqdty8Fr3"
      },
      "source": [
        "replace \n",
        "\n",
        "`pl_sd = torch.load(ckpt, map_location=\"cpu\")`\n",
        "\n",
        "to \n",
        "\n",
        "`pl_sd = torch.load(ckpt, map_location=\"cuda:0\")`"
      ]
    },
    {
      "cell_type": "code",
      "execution_count": null,
      "metadata": {
        "id": "4Vv7SF1O8JlH"
      },
      "outputs": [],
      "source": [
        "%cd /content/stable-diffusion-colab/\n",
        "!python3 scripts/webui.py --share"
      ]
    },
    {
      "cell_type": "markdown",
      "metadata": {
        "id": "FjbAS8FQ39EY"
      },
      "source": [
        "## Another variant by AUTOMATIC1111\n",
        "Less functional"
      ]
    },
    {
      "cell_type": "code",
      "execution_count": null,
      "metadata": {
        "id": "pJwdW7gQ4Ywo"
      },
      "outputs": [],
      "source": [
        "%cd /content/stable-diffusion-colab/\n",
        "!git clone https://github.com/TencentARC/GFPGAN\n",
        "%cd GFPGAN\n",
        "!pip install basicsr facexlib yapf lmdb opencv-python pyyaml tb-nightly --no-deps\n",
        "!python setup.py develop\n",
        "!pip install realesrgan\n",
        "!wget https://github.com/TencentARC/GFPGAN/releases/download/v1.3.0/GFPGANv1.3.pth -P experiments/pretrained_models"
      ]
    },
    {
      "cell_type": "code",
      "execution_count": null,
      "metadata": {
        "id": "e3DSDwY-4CRw"
      },
      "outputs": [],
      "source": [
        "%cd /content/stable-diffusion-colab/\n",
        "!wget https://raw.githubusercontent.com/AUTOMATIC1111/stable-diffusion-webui/master/webui.py -O /content/stable-diffusion-colab/scripts/webui2.py"
      ]
    },
    {
      "cell_type": "markdown",
      "metadata": {
        "id": "TWbJ01r35UxO"
      },
      "source": [
        "You need to change the line in webui2.py before launching:\n",
        "\n",
        "`self.demo.launch() `\n",
        "\n",
        "to \n",
        "\n",
        "`self.demo.launch(share=True)`\n",
        "\n"
      ]
    },
    {
      "cell_type": "code",
      "execution_count": null,
      "metadata": {
        "id": "gwlsDEbA4Lh_"
      },
      "outputs": [],
      "source": [
        "!python3 scripts/webui2.py"
      ]
    }
  ],
  "metadata": {
    "accelerator": "GPU",
    "colab": {
      "collapsed_sections": [
        "qihOCie6dIqr",
        "O7EEb481dPFc",
        "UNd1l-nBarTq",
        "c1rYyseSa5gx",
        "UdmScuYwIb5z",
        "E8nDWRx6flV6",
        "wxkN1duj1NS9",
        "FjbAS8FQ39EY"
      ],
      "provenance": [],
      "machine_shape": "hm",
      "include_colab_link": true
    },
    "gpuClass": "standard",
    "kernelspec": {
      "display_name": "Python 3",
      "name": "python3"
    },
    "language_info": {
      "name": "python"
    }
  },
  "nbformat": 4,
  "nbformat_minor": 0
}